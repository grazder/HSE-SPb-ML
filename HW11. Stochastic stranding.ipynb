{
  "nbformat": 4,
  "nbformat_minor": 0,
  "metadata": {
    "colab": {
      "name": "hw11_task.ipynb",
      "provenance": [],
      "collapsed_sections": [],
      "toc_visible": true
    },
    "kernelspec": {
      "display_name": "Python 3",
      "language": "python",
      "name": "python3"
    },
    "language_info": {
      "codemirror_mode": {
        "name": "ipython",
        "version": 3
      },
      "file_extension": ".py",
      "mimetype": "text/x-python",
      "name": "python",
      "nbconvert_exporter": "python",
      "pygments_lexer": "ipython3",
      "version": "3.7.3"
    }
  },
  "cells": [
    {
      "cell_type": "markdown",
      "metadata": {
        "id": "zfUV0OjCQvqg"
      },
      "source": [
        "# Stochastic stranding\n",
        "__Суммарное количество баллов: 8__\n",
        "\n",
        "__Решение отправлять на `ml.course.practice@gmail.com`__\n",
        "\n",
        "__Тема письма: `[ML][HW11] <ФИ>`, где вместо `<ФИ>` указаны фамилия и имя__\n",
        "\n",
        "По бескрайним каменным джунглям от заказа к заказу бродят курьеры. Их задача - как можно быстрее доставить все заказы, чтобы взять новые. Ничто не может заставить их покинуть вечный цикл доставки."
      ]
    },
    {
      "cell_type": "code",
      "metadata": {
        "id": "DB6AzXJ5Qvqm"
      },
      "source": [
        "import numpy as np\n",
        "import pandas\n",
        "import random\n",
        "import matplotlib.pyplot as plt\n",
        "from matplotlib import animation, rc\n",
        "from IPython.display import HTML\n",
        "import matplotlib\n",
        "import copy\n",
        "\n",
        "from itertools import permutations\n",
        "from tqdm.notebook import tqdm"
      ],
      "execution_count": 1,
      "outputs": []
    },
    {
      "cell_type": "code",
      "metadata": {
        "id": "LbMgu_JBQvqn",
        "scrolled": false
      },
      "source": [
        "def get_colors(distances, alpha=True):\n",
        "    normed = np.array(distances) - np.min(distances)\n",
        "    normed = normed / np.max(normed)\n",
        "    alpha = 1/np.mean([len(row) for row in normed])**0.5 if alpha else 1.\n",
        "    return [[((1. if n > 0.5 else 2 * n), (1. if n < 0.5 else 2 - 2*n), 0., alpha) \n",
        "             for n in row] for row in normed]\n",
        "\n",
        "def get_coords(points):\n",
        "    results = []\n",
        "    for pts in points:\n",
        "        x_prev, _ = pts[0]\n",
        "        result = [pts[0]]\n",
        "        for x, y in list(pts[1:]) + [pts[0]]:\n",
        "            result.append((x_prev, y))\n",
        "            result.append((x, y))\n",
        "            x_prev = x\n",
        "        results.append(list(zip(*result)))\n",
        "    return results\n",
        "\n",
        "def init_figure(X):\n",
        "    upper_bound, lower_bound = X.max(axis=0) + 1, X.min(axis=0) - 1\n",
        "    fig, ax = plt.subplots(figsize=(10, 10), nrows=1, ncols=1)\n",
        "    #ax.set_facecolor((0.1, 0.1, 0.1))\n",
        "    ax.grid(True)\n",
        "    #ax.grid(True, color=(0.9, 0.9, 0.9))\n",
        "    ax.set_xticks(range(lower_bound[0], upper_bound[0]))\n",
        "    ax.set_yticks(range(lower_bound[1], upper_bound[1]))\n",
        "    ax.set_xlim(lower_bound[0], upper_bound[0])\n",
        "    ax.set_ylim(lower_bound[1], upper_bound[1])\n",
        "    ax.set_xticklabels([])\n",
        "    ax.set_yticklabels([])\n",
        "    ax.scatter(X[:, 0], X[:, 1], color=(0, 0, 1))\n",
        "    plt.tight_layout()\n",
        "    return fig, ax    \n",
        "\n",
        "def visualize_hillclimb(X, hillclimb):\n",
        "    fig, ax = init_figure(X)\n",
        "    permutations = hillclimb.optimize_explain(X)\n",
        "    colors = get_colors([[cyclic_distance(X[p], hillclimb.dist) for p in permutations]], False)[0]\n",
        "    coords = get_coords([X[p] for p in permutations])\n",
        "    plot = ax.plot(coords[0][0], coords[0][1], color=colors[0])[0]\n",
        "    \n",
        "    def animate(i):\n",
        "        plot.set_color(colors[i])\n",
        "        plot.set_data(*coords[i])\n",
        "        return (plot,)\n",
        "    \n",
        "    return animation.FuncAnimation(fig, animate, frames=len(permutations), interval=100, blit=True)\n",
        "\n",
        "def visualize_genetic(X, genetic):\n",
        "    fig, ax = init_figure(X)\n",
        "    populations = genetic.optimize_explain(X)\n",
        "    distances = [[cyclic_distance(X[p], genetic.dist) for p in populations[i]] for i in range(len(populations))]\n",
        "    colors = get_colors(distances)\n",
        "    coords = get_coords([X[p] for p in populations[0]])\n",
        "    plots = [ax.plot(x, y, color=c)[0] for (x, y), c in zip(coords, colors[0])]\n",
        "    best_id = np.argmin(distances[0])\n",
        "    best_plot = ax.plot(*coords[best_id], color=(0.3, 0.3, 1, 0.9), linestyle=\"-.\")[0]\n",
        "    \n",
        "    def animate(i):\n",
        "        coords = get_coords([X[p] for p in populations[i]])\n",
        "        for p, (x, y), c in zip(plots, coords, colors[i]):\n",
        "            p.set_color(c)\n",
        "            p.set_data(x, y)\n",
        "        best_id = np.argmin(distances[i])\n",
        "        best_plot.set_data(*coords[best_id])\n",
        "        return plots + [best_plot]\n",
        "    \n",
        "    return animation.FuncAnimation(fig, animate, frames=len(populations), interval=100, blit=True)"
      ],
      "execution_count": 2,
      "outputs": []
    },
    {
      "cell_type": "code",
      "metadata": {
        "id": "7saPc6ZmQvqn"
      },
      "source": [
        "def synthetic_points(count=25, dims=2):\n",
        "    return np.random.randint(40, size=(count, dims))\n",
        "\n",
        "X = synthetic_points()"
      ],
      "execution_count": 3,
      "outputs": []
    },
    {
      "cell_type": "markdown",
      "metadata": {
        "id": "C4KFFBfhQvqo"
      },
      "source": [
        "### Задание 1 (1 балл)\n",
        "Для начала научимся считать расстояния, которые курьерам придется преодолеть. Если бы они доставляли еду в пустыне, то им бы было достаточно считать евклидовы расстояния, т.к. можно просто идти напрямик. Однако курьеры доставляют еду только в городе, и двигаться могут только вдоль улиц. Поэтому нам понадобится манъэттенское расстояние.\n",
        "\n",
        "#### Функции\n",
        "`cyclic_distance(points, dist)` - возвращает суммарное расстояние пройденное курьером по циклу из точек `points` посчитанное при помощи функции `dist`.\n",
        "\n",
        "`l2_distance(p1, p2)` - возвраает евклидово расстояние между точками.\n",
        "\n",
        "`l1_distance(p1, p2)` - возвращает манхэттенское расстояние между точками."
      ]
    },
    {
      "cell_type": "code",
      "metadata": {
        "id": "MJUI0S1CQvqo"
      },
      "source": [
        "def cyclic_distance(points, dist):\n",
        "    return np.sum([dist(points[i - 1], points[i]) for i in range(len(points))])\n",
        "\n",
        "def l2_distance(p1, p2):\n",
        "    return np.linalg.norm(p1 - p2)\n",
        "\n",
        "def l1_distance(p1, p2):\n",
        "    return np.sum(np.abs(p1 - p2))"
      ],
      "execution_count": 4,
      "outputs": []
    },
    {
      "cell_type": "markdown",
      "metadata": {
        "id": "MOLBlWxiQvqo"
      },
      "source": [
        "### Задание 2 (3 балла)\n",
        "Курьер получил карту расположения заказов на карте. Ему хочется побыстрее обойти все точки. Для этого он хочет воспользоваться методом HillClimb, а вам предстоит ему в этом помочь. Реализуйте данный метод.\n",
        "\n",
        "#### Методы\n",
        "`optimize_explain(X)` - возвращает список из перестановок точек `X`, полученных в процессе оптимизации. Перестановка должна попадать в список после каждого изменения. Метод должен совершить не больше `max_iterations` итераций, на каждой из них необходимо рассмотреть все возможные пары индексов.\n",
        "\n",
        "#### Параметры конструктора\n",
        "`max_iterations` - максимальное количество итераций в методе `optimize_explain`\n",
        "\n",
        "`dist` - функция расстояния"
      ]
    },
    {
      "cell_type": "code",
      "metadata": {
        "id": "RLbAxKfpQvqp"
      },
      "source": [
        "class HillClimb:\n",
        "    def __init__(self, max_iterations, dist):\n",
        "        self.max_iterations = max_iterations\n",
        "        self.dist = dist # Do not change\n",
        "    \n",
        "    def optimize(self, X):\n",
        "        return self.optimize_explain(X)[-1]\n",
        "    \n",
        "    def optimize_explain(self, X):\n",
        "        permutations = []\n",
        "        current_dist = cyclic_distance(X, self.dist)\n",
        "        self.X = X\n",
        "        i = 0\n",
        "\n",
        "        return self.__next_permutation(permutations, np.arange(len(self.X)), current_dist, i)\n",
        "    \n",
        "    def __next_permutation(self, permutations, current_perm, current_dist, iteration):\n",
        "        if iteration > self.max_iterations:\n",
        "            return permutatuions\n",
        "\n",
        "        best_perm = current_perm\n",
        "        best_dist = current_dist\n",
        "        for i in range(len(current_perm)):\n",
        "            for j in range(i + 1, len(current_perm)):\n",
        "                new_dist, new_perm = self.__new_permutation(current_perm, current_dist, i, j)\n",
        "\n",
        "                if new_dist < best_dist:\n",
        "                    best_dist = new_dist\n",
        "                    best_perm = new_perm\n",
        "\n",
        "                    permutations.append(new_perm)\n",
        "                    return self.__next_permutation(permutations, best_perm, best_dist, iteration + 1)\n",
        "        \n",
        "        return permutations\n",
        "\n",
        "    def __new_permutation(self, current_perm, current_dist, i, j):\n",
        "        new_perm = current_perm.copy()\n",
        "        new_perm[j], new_perm[i] = current_perm[i], current_perm[j]\n",
        "\n",
        "        old_bound_sum = self.__calculate_bounds(current_perm, i, j)\n",
        "        new_bound_sum = self.__calculate_bounds(new_perm, i, j)\n",
        "\n",
        "        new_dist = current_dist - old_bound_sum + new_bound_sum\n",
        "\n",
        "        return new_dist, new_perm\n",
        "\n",
        "    def __calculate_bounds(self, permutation, i, j):\n",
        "        l_in, l_out, r_in, r_out = 0, 0, 0, 0\n",
        "        if i < j:\n",
        "            l_in = self.dist(self.X[permutation][i], self.X[permutation][i + 1])\n",
        "            r_in = self.dist(self.X[permutation][j], self.X[permutation][j - 1])\n",
        "        \n",
        "        if i > 0:\n",
        "            l_out = self.dist(self.X[permutation][i - 1], self.X[permutation][i])\n",
        "\n",
        "        if j < len(permutation) - 1:\n",
        "            r_out = self.dist(self.X[permutation][j + 1], self.X[permutation][j])\n",
        "\n",
        "        return l_in + l_out + r_in + r_out"
      ],
      "execution_count": 5,
      "outputs": []
    },
    {
      "cell_type": "code",
      "metadata": {
        "colab": {
          "base_uri": "https://localhost:8080/"
        },
        "id": "SsBWZyAZR09F",
        "outputId": "481e22f6-b56e-4ece-b7ed-f582279904c3"
      },
      "source": [
        "hc = HillClimb(100, l1_distance)\r\n",
        "\r\n",
        "print('X: ', cyclic_distance(X, l1_distance))\r\n",
        "print('Hill Climb: ', cyclic_distance(X[hc.optimize(X)], l1_distance))"
      ],
      "execution_count": 6,
      "outputs": [
        {
          "output_type": "stream",
          "text": [
            "X:  746\n",
            "Hill Climb:  312\n"
          ],
          "name": "stdout"
        }
      ]
    },
    {
      "cell_type": "code",
      "metadata": {
        "id": "HOUOCSX1Qvqp"
      },
      "source": [
        "hc = HillClimb(100, l1_distance)\n",
        "HTML(visualize_hillclimb(X, hc).to_jshtml())"
      ],
      "execution_count": null,
      "outputs": []
    },
    {
      "cell_type": "markdown",
      "metadata": {
        "id": "oDZygyjgQvqp"
      },
      "source": [
        "### Задание 3 (4 балла)\n",
        "Курьерское дело растет, теперь между городами блуждает большое количество курьеров, а их профессия вместе с известным маршрутом передается из поколение в поколение. Чем быстрее курьер способен обойти города - тем больше вероятность того, что он заработает себе на безоблачную старость и передаст свое дело потомкам. Симулируйте эволюцию курьеров, реализовав генетический алгоритм.\n",
        "\n",
        "#### Методы\n",
        "`optimize(X)` - выбирает лучшую перестановку из результатов `optimize_explain(X)`\n",
        "\n",
        "`optimize_explain(X)` - возвращает список длины `iterations` популяций размера `population` перестановок точек `X`, полученных в процессе оптимизации. На каждом шаге алгоритм должен оставлять только `survivors` выживших, следующая популяция должна быть сгенерирована из них"
      ]
    },
    {
      "cell_type": "code",
      "metadata": {
        "id": "BhZJ2A4MQvqq"
      },
      "source": [
        "class Genetic:\n",
        "    def __init__(self, iterations, population, survivors, distance):\n",
        "        self.pop_size = population\n",
        "        self.surv_size = survivors\n",
        "        self.dist = distance\n",
        "        self.iters = iterations\n",
        "    \n",
        "    def optimize(self, X):\n",
        "        population = self.optimize_explain(X)[-1]\n",
        "        fitness = self.__calculate_fitness(population)\n",
        "\n",
        "        best_idx = np.argmin(fitness)\n",
        "        return population[best_idx]\n",
        "    \n",
        "    def optimize_explain(self, X):\n",
        "        self.X = X\n",
        "        population = self.__initialize()\n",
        "        fitness = self.__calculate_fitness(population)\n",
        "\n",
        "        result = []\n",
        "\n",
        "        for iter in range(self.iters):\n",
        "            survivors = self.__extinction(population, fitness, self.surv_size)\n",
        "            \n",
        "            population = self.__crossingover(survivors, self.pop_size)\n",
        "            fitness = self.__calculate_fitness(population)\n",
        "\n",
        "            population, fitness = self.__mutate_population(population, fitness)\n",
        "\n",
        "            result.append(population)\n",
        "\n",
        "        return result\n",
        "\n",
        "\n",
        "    def __calculate_fitness(self, population):\n",
        "        fitness = []\n",
        "\n",
        "        for agent in population:\n",
        "            fitness.append(cyclic_distance(self.X[agent], self.dist))\n",
        "\n",
        "        return np.array(fitness)\n",
        "\n",
        "    def __initialize(self):\n",
        "        population = []\n",
        "\n",
        "        first_perm = np.arange(len(self.X))\n",
        "\n",
        "        for i in range(self.pop_size):\n",
        "            current_pop = np.random.permutation(first_perm)\n",
        "            population.append(current_pop)\n",
        "\n",
        "        return np.array(population)\n",
        "\n",
        "    def __mutate_population(self, population, fitness, mutation_rate=0.25):\n",
        "        probs = fitness / np.sum(fitness)\n",
        "\n",
        "        mutate_number = int(len(population) * mutation_rate)\n",
        "        mutation_idx = np.random.choice(np.arange(len(population)), size=mutate_number, p=probs)\n",
        "\n",
        "        for idx in mutation_idx:\n",
        "            population[idx], fitness[idx] = self.__mutate(population[idx], fitness[idx])\n",
        "\n",
        "        return population, fitness\n",
        "\n",
        "    def __mutate(self, agent, agent_fitness):\n",
        "        N = len(agent)\n",
        "        i, j = np.random.randint(N, size=2)\n",
        "\n",
        "        new_agent_fitness, new_agent = self.__new_permutation(agent, agent_fitness, i, j)\n",
        "\n",
        "        return new_agent, new_agent_fitness\n",
        "\n",
        "    def __crossingover(self, survivors, pop_size):\n",
        "        population = []\n",
        "        \n",
        "        all_pairs = np.array(list(permutations(np.arange(len(survivors)), 2)))\n",
        "        idx = np.random.choice(np.arange(len(all_pairs)), size = pop_size)\n",
        "        all_pairs = all_pairs[idx]\n",
        "\n",
        "        for i, j in all_pairs:\n",
        "            new_agent = self.__crossingover_pair(survivors[i], survivors[j])\n",
        "            population.append(new_agent)\n",
        "\n",
        "        return np.array(population)\n",
        "    \n",
        "    def __crossingover_pair(self, first, second):\n",
        "        new_agent = -np.ones_like(first)\n",
        "\n",
        "        first_n = len(new_agent) // 2\n",
        "        idx_first = np.random.randint(first_n)\n",
        "        new_agent[:first_n] = first[idx_first: idx_first + first_n]\n",
        "\n",
        "        j = first_n\n",
        "        for value in second:\n",
        "            if value not in new_agent:\n",
        "                new_agent[j] = value\n",
        "                j += 1\n",
        "\n",
        "                if j == len(new_agent):\n",
        "                    break\n",
        "\n",
        "        return new_agent\n",
        "\n",
        "    def __extinction(self, population, fitness, surv_size):\n",
        "        sorted_fitness_idx = np.argsort(fitness)\n",
        "\n",
        "        new_population = population[sorted_fitness_idx][:surv_size]\n",
        "\n",
        "        return new_population\n",
        "\n",
        "    def __new_permutation(self, current_perm, current_dist, i, j):\n",
        "        new_perm = current_perm.copy()\n",
        "        new_perm[j], new_perm[i] = current_perm[i], current_perm[j]\n",
        "\n",
        "        old_bound_sum = self.__calculate_bounds(current_perm, i, j)\n",
        "        new_bound_sum = self.__calculate_bounds(new_perm, i, j)\n",
        "\n",
        "        new_dist = current_dist - old_bound_sum + new_bound_sum\n",
        "\n",
        "        return new_dist, new_perm\n",
        "\n",
        "    def __calculate_bounds(self, permutation, i, j):\n",
        "        l_in, l_out, r_in, r_out = 0, 0, 0, 0\n",
        "        if i < j:\n",
        "            l_in = self.dist(self.X[permutation][i], self.X[permutation][i + 1])\n",
        "            r_in = self.dist(self.X[permutation][j], self.X[permutation][j - 1])\n",
        "        \n",
        "        if i > 0:\n",
        "            l_out = self.dist(self.X[permutation][i - 1], self.X[permutation][i])\n",
        "\n",
        "        if j < len(permutation) - 1:\n",
        "            r_out = self.dist(self.X[permutation][j + 1], self.X[permutation][j])\n",
        "\n",
        "        return l_in + l_out + r_in + r_out"
      ],
      "execution_count": 8,
      "outputs": []
    },
    {
      "cell_type": "code",
      "metadata": {
        "colab": {
          "base_uri": "https://localhost:8080/"
        },
        "id": "VN2S0FL-MChj",
        "outputId": "eb88453d-c9db-403c-80ca-1ac2393f53d9"
      },
      "source": [
        "gen = Genetic(200, 100, 20, l1_distance)\r\n",
        "\r\n",
        "print('X: ', cyclic_distance(X, l1_distance))\r\n",
        "print('Genetic: ', cyclic_distance(X[gen.optimize(X)], l1_distance))\r\n",
        "print('Hill Climb: ', cyclic_distance(X[hc.optimize(X)], l1_distance))"
      ],
      "execution_count": 9,
      "outputs": [
        {
          "output_type": "stream",
          "text": [
            "X:  746\n",
            "Genetic:  248\n",
            "Hill Climb:  312\n"
          ],
          "name": "stdout"
        }
      ]
    },
    {
      "cell_type": "code",
      "metadata": {
        "id": "NAOqUO4CQvqq"
      },
      "source": [
        "gen = Genetic(200, 100, 20, l1_distance)\n",
        "HTML(visualize_genetic(X, gen).to_jshtml())"
      ],
      "execution_count": null,
      "outputs": []
    }
  ]
}