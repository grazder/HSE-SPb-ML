{
  "nbformat": 4,
  "nbformat_minor": 0,
  "metadata": {
    "kernelspec": {
      "display_name": "Python 3",
      "language": "python",
      "name": "python3"
    },
    "language_info": {
      "codemirror_mode": {
        "name": "ipython",
        "version": 3
      },
      "file_extension": ".py",
      "mimetype": "text/x-python",
      "name": "python",
      "nbconvert_exporter": "python",
      "pygments_lexer": "ipython3",
      "version": "3.7.3"
    },
    "colab": {
      "name": "hw09_task.ipynb",
      "provenance": [],
      "collapsed_sections": [],
      "toc_visible": true
    },
    "accelerator": "GPU",
    "widgets": {
      "application/vnd.jupyter.widget-state+json": {
        "a9db9fbf97b44b629d1fca5ce1a8f103": {
          "model_module": "@jupyter-widgets/controls",
          "model_name": "HBoxModel",
          "state": {
            "_view_name": "HBoxView",
            "_dom_classes": [],
            "_model_name": "HBoxModel",
            "_view_module": "@jupyter-widgets/controls",
            "_model_module_version": "1.5.0",
            "_view_count": null,
            "_view_module_version": "1.5.0",
            "box_style": "",
            "layout": "IPY_MODEL_e4c8f06f7d284dacacd66fc4d9cb3797",
            "_model_module": "@jupyter-widgets/controls",
            "children": [
              "IPY_MODEL_034f90084f8e4724914431174db2cc7b",
              "IPY_MODEL_d262b8ea45f1488ca9975cbd8db6c8aa"
            ]
          }
        },
        "e4c8f06f7d284dacacd66fc4d9cb3797": {
          "model_module": "@jupyter-widgets/base",
          "model_name": "LayoutModel",
          "state": {
            "_view_name": "LayoutView",
            "grid_template_rows": null,
            "right": null,
            "justify_content": null,
            "_view_module": "@jupyter-widgets/base",
            "overflow": null,
            "_model_module_version": "1.2.0",
            "_view_count": null,
            "flex_flow": null,
            "width": null,
            "min_width": null,
            "border": null,
            "align_items": null,
            "bottom": null,
            "_model_module": "@jupyter-widgets/base",
            "top": null,
            "grid_column": null,
            "overflow_y": null,
            "overflow_x": null,
            "grid_auto_flow": null,
            "grid_area": null,
            "grid_template_columns": null,
            "flex": null,
            "_model_name": "LayoutModel",
            "justify_items": null,
            "grid_row": null,
            "max_height": null,
            "align_content": null,
            "visibility": null,
            "align_self": null,
            "height": null,
            "min_height": null,
            "padding": null,
            "grid_auto_rows": null,
            "grid_gap": null,
            "max_width": null,
            "order": null,
            "_view_module_version": "1.2.0",
            "grid_template_areas": null,
            "object_position": null,
            "object_fit": null,
            "grid_auto_columns": null,
            "margin": null,
            "display": null,
            "left": null
          }
        },
        "034f90084f8e4724914431174db2cc7b": {
          "model_module": "@jupyter-widgets/controls",
          "model_name": "FloatProgressModel",
          "state": {
            "_view_name": "ProgressView",
            "style": "IPY_MODEL_a8cf460b27cb428aa68331ca3acce0f9",
            "_dom_classes": [],
            "description": "100%",
            "_model_name": "FloatProgressModel",
            "bar_style": "success",
            "max": 100,
            "_view_module": "@jupyter-widgets/controls",
            "_model_module_version": "1.5.0",
            "value": 100,
            "_view_count": null,
            "_view_module_version": "1.5.0",
            "orientation": "horizontal",
            "min": 0,
            "description_tooltip": null,
            "_model_module": "@jupyter-widgets/controls",
            "layout": "IPY_MODEL_04315a508c7d45cbbd3940a67bd3bc40"
          }
        },
        "d262b8ea45f1488ca9975cbd8db6c8aa": {
          "model_module": "@jupyter-widgets/controls",
          "model_name": "HTMLModel",
          "state": {
            "_view_name": "HTMLView",
            "style": "IPY_MODEL_be5940926cc94d458e1ac7d97b2ab111",
            "_dom_classes": [],
            "description": "",
            "_model_name": "HTMLModel",
            "placeholder": "​",
            "_view_module": "@jupyter-widgets/controls",
            "_model_module_version": "1.5.0",
            "value": " 100/100 [00:22&lt;00:00,  4.39it/s]",
            "_view_count": null,
            "_view_module_version": "1.5.0",
            "description_tooltip": null,
            "_model_module": "@jupyter-widgets/controls",
            "layout": "IPY_MODEL_7b548660e1d94cc1b0cc33c0b28f69a9"
          }
        },
        "a8cf460b27cb428aa68331ca3acce0f9": {
          "model_module": "@jupyter-widgets/controls",
          "model_name": "ProgressStyleModel",
          "state": {
            "_view_name": "StyleView",
            "_model_name": "ProgressStyleModel",
            "description_width": "initial",
            "_view_module": "@jupyter-widgets/base",
            "_model_module_version": "1.5.0",
            "_view_count": null,
            "_view_module_version": "1.2.0",
            "bar_color": null,
            "_model_module": "@jupyter-widgets/controls"
          }
        },
        "04315a508c7d45cbbd3940a67bd3bc40": {
          "model_module": "@jupyter-widgets/base",
          "model_name": "LayoutModel",
          "state": {
            "_view_name": "LayoutView",
            "grid_template_rows": null,
            "right": null,
            "justify_content": null,
            "_view_module": "@jupyter-widgets/base",
            "overflow": null,
            "_model_module_version": "1.2.0",
            "_view_count": null,
            "flex_flow": null,
            "width": null,
            "min_width": null,
            "border": null,
            "align_items": null,
            "bottom": null,
            "_model_module": "@jupyter-widgets/base",
            "top": null,
            "grid_column": null,
            "overflow_y": null,
            "overflow_x": null,
            "grid_auto_flow": null,
            "grid_area": null,
            "grid_template_columns": null,
            "flex": null,
            "_model_name": "LayoutModel",
            "justify_items": null,
            "grid_row": null,
            "max_height": null,
            "align_content": null,
            "visibility": null,
            "align_self": null,
            "height": null,
            "min_height": null,
            "padding": null,
            "grid_auto_rows": null,
            "grid_gap": null,
            "max_width": null,
            "order": null,
            "_view_module_version": "1.2.0",
            "grid_template_areas": null,
            "object_position": null,
            "object_fit": null,
            "grid_auto_columns": null,
            "margin": null,
            "display": null,
            "left": null
          }
        },
        "be5940926cc94d458e1ac7d97b2ab111": {
          "model_module": "@jupyter-widgets/controls",
          "model_name": "DescriptionStyleModel",
          "state": {
            "_view_name": "StyleView",
            "_model_name": "DescriptionStyleModel",
            "description_width": "",
            "_view_module": "@jupyter-widgets/base",
            "_model_module_version": "1.5.0",
            "_view_count": null,
            "_view_module_version": "1.2.0",
            "_model_module": "@jupyter-widgets/controls"
          }
        },
        "7b548660e1d94cc1b0cc33c0b28f69a9": {
          "model_module": "@jupyter-widgets/base",
          "model_name": "LayoutModel",
          "state": {
            "_view_name": "LayoutView",
            "grid_template_rows": null,
            "right": null,
            "justify_content": null,
            "_view_module": "@jupyter-widgets/base",
            "overflow": null,
            "_model_module_version": "1.2.0",
            "_view_count": null,
            "flex_flow": null,
            "width": null,
            "min_width": null,
            "border": null,
            "align_items": null,
            "bottom": null,
            "_model_module": "@jupyter-widgets/base",
            "top": null,
            "grid_column": null,
            "overflow_y": null,
            "overflow_x": null,
            "grid_auto_flow": null,
            "grid_area": null,
            "grid_template_columns": null,
            "flex": null,
            "_model_name": "LayoutModel",
            "justify_items": null,
            "grid_row": null,
            "max_height": null,
            "align_content": null,
            "visibility": null,
            "align_self": null,
            "height": null,
            "min_height": null,
            "padding": null,
            "grid_auto_rows": null,
            "grid_gap": null,
            "max_width": null,
            "order": null,
            "_view_module_version": "1.2.0",
            "grid_template_areas": null,
            "object_position": null,
            "object_fit": null,
            "grid_auto_columns": null,
            "margin": null,
            "display": null,
            "left": null
          }
        },
        "482ff1477d8346db8f56751d03a0c273": {
          "model_module": "@jupyter-widgets/controls",
          "model_name": "HBoxModel",
          "state": {
            "_view_name": "HBoxView",
            "_dom_classes": [],
            "_model_name": "HBoxModel",
            "_view_module": "@jupyter-widgets/controls",
            "_model_module_version": "1.5.0",
            "_view_count": null,
            "_view_module_version": "1.5.0",
            "box_style": "",
            "layout": "IPY_MODEL_084140f45cf64fe6a741add5534e306f",
            "_model_module": "@jupyter-widgets/controls",
            "children": [
              "IPY_MODEL_bc3c7cb3dfdb4ec78137caf3a4bfcd53",
              "IPY_MODEL_98ad358ef4014665a51fb1fc3b62358e"
            ]
          }
        },
        "084140f45cf64fe6a741add5534e306f": {
          "model_module": "@jupyter-widgets/base",
          "model_name": "LayoutModel",
          "state": {
            "_view_name": "LayoutView",
            "grid_template_rows": null,
            "right": null,
            "justify_content": null,
            "_view_module": "@jupyter-widgets/base",
            "overflow": null,
            "_model_module_version": "1.2.0",
            "_view_count": null,
            "flex_flow": null,
            "width": null,
            "min_width": null,
            "border": null,
            "align_items": null,
            "bottom": null,
            "_model_module": "@jupyter-widgets/base",
            "top": null,
            "grid_column": null,
            "overflow_y": null,
            "overflow_x": null,
            "grid_auto_flow": null,
            "grid_area": null,
            "grid_template_columns": null,
            "flex": null,
            "_model_name": "LayoutModel",
            "justify_items": null,
            "grid_row": null,
            "max_height": null,
            "align_content": null,
            "visibility": null,
            "align_self": null,
            "height": null,
            "min_height": null,
            "padding": null,
            "grid_auto_rows": null,
            "grid_gap": null,
            "max_width": null,
            "order": null,
            "_view_module_version": "1.2.0",
            "grid_template_areas": null,
            "object_position": null,
            "object_fit": null,
            "grid_auto_columns": null,
            "margin": null,
            "display": null,
            "left": null
          }
        },
        "bc3c7cb3dfdb4ec78137caf3a4bfcd53": {
          "model_module": "@jupyter-widgets/controls",
          "model_name": "FloatProgressModel",
          "state": {
            "_view_name": "ProgressView",
            "style": "IPY_MODEL_2a59db479bc640dab3b1d92895ae607c",
            "_dom_classes": [],
            "description": "100%",
            "_model_name": "FloatProgressModel",
            "bar_style": "success",
            "max": 100,
            "_view_module": "@jupyter-widgets/controls",
            "_model_module_version": "1.5.0",
            "value": 100,
            "_view_count": null,
            "_view_module_version": "1.5.0",
            "orientation": "horizontal",
            "min": 0,
            "description_tooltip": null,
            "_model_module": "@jupyter-widgets/controls",
            "layout": "IPY_MODEL_d41ba018963b4640aff3d6254b86ffc1"
          }
        },
        "98ad358ef4014665a51fb1fc3b62358e": {
          "model_module": "@jupyter-widgets/controls",
          "model_name": "HTMLModel",
          "state": {
            "_view_name": "HTMLView",
            "style": "IPY_MODEL_5f89e05c326f43ec92e865f21b3011e0",
            "_dom_classes": [],
            "description": "",
            "_model_name": "HTMLModel",
            "placeholder": "​",
            "_view_module": "@jupyter-widgets/controls",
            "_model_module_version": "1.5.0",
            "value": " 100/100 [15:58&lt;00:00,  9.59s/it]",
            "_view_count": null,
            "_view_module_version": "1.5.0",
            "description_tooltip": null,
            "_model_module": "@jupyter-widgets/controls",
            "layout": "IPY_MODEL_39867b7d30594e9c95b0fafb8653d1fe"
          }
        },
        "2a59db479bc640dab3b1d92895ae607c": {
          "model_module": "@jupyter-widgets/controls",
          "model_name": "ProgressStyleModel",
          "state": {
            "_view_name": "StyleView",
            "_model_name": "ProgressStyleModel",
            "description_width": "initial",
            "_view_module": "@jupyter-widgets/base",
            "_model_module_version": "1.5.0",
            "_view_count": null,
            "_view_module_version": "1.2.0",
            "bar_color": null,
            "_model_module": "@jupyter-widgets/controls"
          }
        },
        "d41ba018963b4640aff3d6254b86ffc1": {
          "model_module": "@jupyter-widgets/base",
          "model_name": "LayoutModel",
          "state": {
            "_view_name": "LayoutView",
            "grid_template_rows": null,
            "right": null,
            "justify_content": null,
            "_view_module": "@jupyter-widgets/base",
            "overflow": null,
            "_model_module_version": "1.2.0",
            "_view_count": null,
            "flex_flow": null,
            "width": null,
            "min_width": null,
            "border": null,
            "align_items": null,
            "bottom": null,
            "_model_module": "@jupyter-widgets/base",
            "top": null,
            "grid_column": null,
            "overflow_y": null,
            "overflow_x": null,
            "grid_auto_flow": null,
            "grid_area": null,
            "grid_template_columns": null,
            "flex": null,
            "_model_name": "LayoutModel",
            "justify_items": null,
            "grid_row": null,
            "max_height": null,
            "align_content": null,
            "visibility": null,
            "align_self": null,
            "height": null,
            "min_height": null,
            "padding": null,
            "grid_auto_rows": null,
            "grid_gap": null,
            "max_width": null,
            "order": null,
            "_view_module_version": "1.2.0",
            "grid_template_areas": null,
            "object_position": null,
            "object_fit": null,
            "grid_auto_columns": null,
            "margin": null,
            "display": null,
            "left": null
          }
        },
        "5f89e05c326f43ec92e865f21b3011e0": {
          "model_module": "@jupyter-widgets/controls",
          "model_name": "DescriptionStyleModel",
          "state": {
            "_view_name": "StyleView",
            "_model_name": "DescriptionStyleModel",
            "description_width": "",
            "_view_module": "@jupyter-widgets/base",
            "_model_module_version": "1.5.0",
            "_view_count": null,
            "_view_module_version": "1.2.0",
            "_model_module": "@jupyter-widgets/controls"
          }
        },
        "39867b7d30594e9c95b0fafb8653d1fe": {
          "model_module": "@jupyter-widgets/base",
          "model_name": "LayoutModel",
          "state": {
            "_view_name": "LayoutView",
            "grid_template_rows": null,
            "right": null,
            "justify_content": null,
            "_view_module": "@jupyter-widgets/base",
            "overflow": null,
            "_model_module_version": "1.2.0",
            "_view_count": null,
            "flex_flow": null,
            "width": null,
            "min_width": null,
            "border": null,
            "align_items": null,
            "bottom": null,
            "_model_module": "@jupyter-widgets/base",
            "top": null,
            "grid_column": null,
            "overflow_y": null,
            "overflow_x": null,
            "grid_auto_flow": null,
            "grid_area": null,
            "grid_template_columns": null,
            "flex": null,
            "_model_name": "LayoutModel",
            "justify_items": null,
            "grid_row": null,
            "max_height": null,
            "align_content": null,
            "visibility": null,
            "align_self": null,
            "height": null,
            "min_height": null,
            "padding": null,
            "grid_auto_rows": null,
            "grid_gap": null,
            "max_width": null,
            "order": null,
            "_view_module_version": "1.2.0",
            "grid_template_areas": null,
            "object_position": null,
            "object_fit": null,
            "grid_auto_columns": null,
            "margin": null,
            "display": null,
            "left": null
          }
        },
        "81d3b63ea7174175a314d01e94f1337b": {
          "model_module": "@jupyter-widgets/controls",
          "model_name": "HBoxModel",
          "state": {
            "_view_name": "HBoxView",
            "_dom_classes": [],
            "_model_name": "HBoxModel",
            "_view_module": "@jupyter-widgets/controls",
            "_model_module_version": "1.5.0",
            "_view_count": null,
            "_view_module_version": "1.5.0",
            "box_style": "",
            "layout": "IPY_MODEL_5fb11f27ae4f4a5a8f2cedaa3272fce7",
            "_model_module": "@jupyter-widgets/controls",
            "children": [
              "IPY_MODEL_9fdbb654cd264fac8db4e6a70eb3f4ca",
              "IPY_MODEL_56016d690952456db376450492e9452a"
            ]
          }
        },
        "5fb11f27ae4f4a5a8f2cedaa3272fce7": {
          "model_module": "@jupyter-widgets/base",
          "model_name": "LayoutModel",
          "state": {
            "_view_name": "LayoutView",
            "grid_template_rows": null,
            "right": null,
            "justify_content": null,
            "_view_module": "@jupyter-widgets/base",
            "overflow": null,
            "_model_module_version": "1.2.0",
            "_view_count": null,
            "flex_flow": null,
            "width": null,
            "min_width": null,
            "border": null,
            "align_items": null,
            "bottom": null,
            "_model_module": "@jupyter-widgets/base",
            "top": null,
            "grid_column": null,
            "overflow_y": null,
            "overflow_x": null,
            "grid_auto_flow": null,
            "grid_area": null,
            "grid_template_columns": null,
            "flex": null,
            "_model_name": "LayoutModel",
            "justify_items": null,
            "grid_row": null,
            "max_height": null,
            "align_content": null,
            "visibility": null,
            "align_self": null,
            "height": null,
            "min_height": null,
            "padding": null,
            "grid_auto_rows": null,
            "grid_gap": null,
            "max_width": null,
            "order": null,
            "_view_module_version": "1.2.0",
            "grid_template_areas": null,
            "object_position": null,
            "object_fit": null,
            "grid_auto_columns": null,
            "margin": null,
            "display": null,
            "left": null
          }
        },
        "9fdbb654cd264fac8db4e6a70eb3f4ca": {
          "model_module": "@jupyter-widgets/controls",
          "model_name": "FloatProgressModel",
          "state": {
            "_view_name": "ProgressView",
            "style": "IPY_MODEL_0d367f32171e4b789513dac5b4467c13",
            "_dom_classes": [],
            "description": "100%",
            "_model_name": "FloatProgressModel",
            "bar_style": "success",
            "max": 100,
            "_view_module": "@jupyter-widgets/controls",
            "_model_module_version": "1.5.0",
            "value": 100,
            "_view_count": null,
            "_view_module_version": "1.5.0",
            "orientation": "horizontal",
            "min": 0,
            "description_tooltip": null,
            "_model_module": "@jupyter-widgets/controls",
            "layout": "IPY_MODEL_991e3b8bd6884822ab527f5ee1fcea85"
          }
        },
        "56016d690952456db376450492e9452a": {
          "model_module": "@jupyter-widgets/controls",
          "model_name": "HTMLModel",
          "state": {
            "_view_name": "HTMLView",
            "style": "IPY_MODEL_e62816a82752459daad8e8ccbd532ad7",
            "_dom_classes": [],
            "description": "",
            "_model_name": "HTMLModel",
            "placeholder": "​",
            "_view_module": "@jupyter-widgets/controls",
            "_model_module_version": "1.5.0",
            "value": " 100/100 [14:13&lt;00:00,  8.54s/it]",
            "_view_count": null,
            "_view_module_version": "1.5.0",
            "description_tooltip": null,
            "_model_module": "@jupyter-widgets/controls",
            "layout": "IPY_MODEL_c292e251717c417bb9447732183807c1"
          }
        },
        "0d367f32171e4b789513dac5b4467c13": {
          "model_module": "@jupyter-widgets/controls",
          "model_name": "ProgressStyleModel",
          "state": {
            "_view_name": "StyleView",
            "_model_name": "ProgressStyleModel",
            "description_width": "initial",
            "_view_module": "@jupyter-widgets/base",
            "_model_module_version": "1.5.0",
            "_view_count": null,
            "_view_module_version": "1.2.0",
            "bar_color": null,
            "_model_module": "@jupyter-widgets/controls"
          }
        },
        "991e3b8bd6884822ab527f5ee1fcea85": {
          "model_module": "@jupyter-widgets/base",
          "model_name": "LayoutModel",
          "state": {
            "_view_name": "LayoutView",
            "grid_template_rows": null,
            "right": null,
            "justify_content": null,
            "_view_module": "@jupyter-widgets/base",
            "overflow": null,
            "_model_module_version": "1.2.0",
            "_view_count": null,
            "flex_flow": null,
            "width": null,
            "min_width": null,
            "border": null,
            "align_items": null,
            "bottom": null,
            "_model_module": "@jupyter-widgets/base",
            "top": null,
            "grid_column": null,
            "overflow_y": null,
            "overflow_x": null,
            "grid_auto_flow": null,
            "grid_area": null,
            "grid_template_columns": null,
            "flex": null,
            "_model_name": "LayoutModel",
            "justify_items": null,
            "grid_row": null,
            "max_height": null,
            "align_content": null,
            "visibility": null,
            "align_self": null,
            "height": null,
            "min_height": null,
            "padding": null,
            "grid_auto_rows": null,
            "grid_gap": null,
            "max_width": null,
            "order": null,
            "_view_module_version": "1.2.0",
            "grid_template_areas": null,
            "object_position": null,
            "object_fit": null,
            "grid_auto_columns": null,
            "margin": null,
            "display": null,
            "left": null
          }
        },
        "e62816a82752459daad8e8ccbd532ad7": {
          "model_module": "@jupyter-widgets/controls",
          "model_name": "DescriptionStyleModel",
          "state": {
            "_view_name": "StyleView",
            "_model_name": "DescriptionStyleModel",
            "description_width": "",
            "_view_module": "@jupyter-widgets/base",
            "_model_module_version": "1.5.0",
            "_view_count": null,
            "_view_module_version": "1.2.0",
            "_model_module": "@jupyter-widgets/controls"
          }
        },
        "c292e251717c417bb9447732183807c1": {
          "model_module": "@jupyter-widgets/base",
          "model_name": "LayoutModel",
          "state": {
            "_view_name": "LayoutView",
            "grid_template_rows": null,
            "right": null,
            "justify_content": null,
            "_view_module": "@jupyter-widgets/base",
            "overflow": null,
            "_model_module_version": "1.2.0",
            "_view_count": null,
            "flex_flow": null,
            "width": null,
            "min_width": null,
            "border": null,
            "align_items": null,
            "bottom": null,
            "_model_module": "@jupyter-widgets/base",
            "top": null,
            "grid_column": null,
            "overflow_y": null,
            "overflow_x": null,
            "grid_auto_flow": null,
            "grid_area": null,
            "grid_template_columns": null,
            "flex": null,
            "_model_name": "LayoutModel",
            "justify_items": null,
            "grid_row": null,
            "max_height": null,
            "align_content": null,
            "visibility": null,
            "align_self": null,
            "height": null,
            "min_height": null,
            "padding": null,
            "grid_auto_rows": null,
            "grid_gap": null,
            "max_width": null,
            "order": null,
            "_view_module_version": "1.2.0",
            "grid_template_areas": null,
            "object_position": null,
            "object_fit": null,
            "grid_auto_columns": null,
            "margin": null,
            "display": null,
            "left": null
          }
        }
      }
    }
  },
  "cells": [
    {
      "cell_type": "markdown",
      "metadata": {
        "id": "1PjQglGj4q54"
      },
      "source": [
        "# Случайные леса\n",
        "__Суммарное количество баллов: 10__\n",
        "\n",
        "__Решение отправлять на `ml.course.practice@gmail.com`__\n",
        "\n",
        "__Тема письма: `[ML][MS][HW09] <ФИ>`, где вместо `<ФИ>` указаны фамилия и имя__\n",
        "\n",
        "В этом задании вам предстоит реализовать ансамбль деревьев решений, известный как случайный лес, применить его к публичным данным пользователей социальной сети Вконтакте, и сравнить его эффективность с ансамблем, предоставляемым библиотекой CatBoost.\n",
        "\n",
        "В результате мы сможем определить, какие подписки пользователей больше всего влияют на определение возраста и пола человека. "
      ]
    },
    {
      "cell_type": "code",
      "metadata": {
        "colab": {
          "base_uri": "https://localhost:8080/"
        },
        "id": "PwPDk5pM9zla",
        "outputId": "6f4b9965-8da9-4997-9f0b-c4672c44c5c4"
      },
      "source": [
        "!pip install catboost"
      ],
      "execution_count": 1,
      "outputs": [
        {
          "output_type": "stream",
          "text": [
            "Collecting catboost\n",
            "\u001b[?25l  Downloading https://files.pythonhosted.org/packages/96/3b/bb419654adcf7efff42ed8a3f84e50c8f236424b7ed1cc8ccd290852e003/catboost-0.24.4-cp37-none-manylinux1_x86_64.whl (65.7MB)\n",
            "\u001b[K     |████████████████████████████████| 65.7MB 47kB/s \n",
            "\u001b[?25hRequirement already satisfied: numpy>=1.16.0 in /usr/local/lib/python3.7/dist-packages (from catboost) (1.19.5)\n",
            "Requirement already satisfied: graphviz in /usr/local/lib/python3.7/dist-packages (from catboost) (0.10.1)\n",
            "Requirement already satisfied: scipy in /usr/local/lib/python3.7/dist-packages (from catboost) (1.4.1)\n",
            "Requirement already satisfied: six in /usr/local/lib/python3.7/dist-packages (from catboost) (1.15.0)\n",
            "Requirement already satisfied: plotly in /usr/local/lib/python3.7/dist-packages (from catboost) (4.4.1)\n",
            "Requirement already satisfied: matplotlib in /usr/local/lib/python3.7/dist-packages (from catboost) (3.2.2)\n",
            "Requirement already satisfied: pandas>=0.24.0 in /usr/local/lib/python3.7/dist-packages (from catboost) (1.1.5)\n",
            "Requirement already satisfied: retrying>=1.3.3 in /usr/local/lib/python3.7/dist-packages (from plotly->catboost) (1.3.3)\n",
            "Requirement already satisfied: pyparsing!=2.0.4,!=2.1.2,!=2.1.6,>=2.0.1 in /usr/local/lib/python3.7/dist-packages (from matplotlib->catboost) (2.4.7)\n",
            "Requirement already satisfied: kiwisolver>=1.0.1 in /usr/local/lib/python3.7/dist-packages (from matplotlib->catboost) (1.3.1)\n",
            "Requirement already satisfied: cycler>=0.10 in /usr/local/lib/python3.7/dist-packages (from matplotlib->catboost) (0.10.0)\n",
            "Requirement already satisfied: python-dateutil>=2.1 in /usr/local/lib/python3.7/dist-packages (from matplotlib->catboost) (2.8.1)\n",
            "Requirement already satisfied: pytz>=2017.2 in /usr/local/lib/python3.7/dist-packages (from pandas>=0.24.0->catboost) (2018.9)\n",
            "Installing collected packages: catboost\n",
            "Successfully installed catboost-0.24.4\n"
          ],
          "name": "stdout"
        }
      ]
    },
    {
      "cell_type": "code",
      "metadata": {
        "id": "LH5PiGz04q5-"
      },
      "source": [
        "from sklearn.model_selection import train_test_split\n",
        "import numpy as np\n",
        "import pandas\n",
        "import random\n",
        "import matplotlib.pyplot as plt\n",
        "import matplotlib\n",
        "import copy\n",
        "from catboost import CatBoostClassifier\n",
        "from scipy.stats import mode\n",
        "\n",
        "from typing import Callable, Union, NoReturn, Optional, Dict, Any, List"
      ],
      "execution_count": 2,
      "outputs": []
    },
    {
      "cell_type": "code",
      "metadata": {
        "id": "bQUJHTjS4q5-"
      },
      "source": [
        "def gini(x):\n",
        "    _, counts = np.unique(x, return_counts=True)\n",
        "    proba = counts / len(x)\n",
        "    return np.sum(proba * (1 - proba))\n",
        "    \n",
        "def entropy(x):\n",
        "    _, counts = np.unique(x, return_counts=True)\n",
        "    proba = counts / len(x)\n",
        "    return -np.sum(proba * np.log2(proba))\n",
        "\n",
        "def gain(left_y, right_y, criterion):\n",
        "    y = np.concatenate((left_y, right_y))\n",
        "    return criterion(y) - (criterion(left_y) * len(left_y) + criterion(right_y) * len(right_y)) / len(y)"
      ],
      "execution_count": 3,
      "outputs": []
    },
    {
      "cell_type": "markdown",
      "metadata": {
        "id": "tfxycK0Q4q5_"
      },
      "source": [
        "### Задание 1 (2 балла)\n",
        "Random Forest состоит из деревьев решений. Каждое такое дерево строится на одной из выборок, полученных при помощи bagging. Элементы, которые не вошли в новую обучающую выборку, образуют out-of-bag выборку. Кроме того, в каждом узле дерева мы случайным образом выбираем набор из `max_features` и ищем признак для предиката разбиения только в этом наборе.\n",
        "\n",
        "Сегодня мы будем работать только с бинарными признаками, поэтому нет необходимости выбирать значение признака для разбиения.\n",
        "\n",
        "#### Методы\n",
        "`predict(X)` - возвращает предсказанные метки для элементов выборки `X`\n",
        "\n",
        "#### Параметры конструктора\n",
        "`X, y` - обучающая выборка и соответствующие ей метки классов. Из нее нужно получить выборку для построения дерева при помощи bagging. Out-of-bag выборку нужно запомнить, она понадобится потом.\n",
        "\n",
        "`criterion=\"gini\"` - задает критерий, который будет использоваться при построении дерева. Возможные значения: `\"gini\"`, `\"entropy\"`.\n",
        "\n",
        "`max_depth=None` - ограничение глубины дерева. Если `None` - глубина не ограничена\n",
        "\n",
        "`min_samples_leaf=1` - минимальное количество элементов в каждом листе дерева.\n",
        "\n",
        "`max_features=\"auto\"` - количество признаков, которые могут использоваться в узле. Если `\"auto\"` - равно `sqrt(X.shape[1])`"
      ]
    },
    {
      "cell_type": "code",
      "metadata": {
        "id": "w5-eAlg6Acjb"
      },
      "source": [
        "class DecisionTreeLeaf:\r\n",
        "    \"\"\"\r\n",
        "\r\n",
        "    Attributes\r\n",
        "    ----------\r\n",
        "    y : dict\r\n",
        "        Словарь, отображающий метки в вероятность того, что объект, попавший в данный лист, принадлжит классу, соответствующиему метке \r\n",
        "    \"\"\"\r\n",
        "    def __init__(self, x):\r\n",
        "        self.prediction = {}\r\n",
        "        values = np.unique(x)\r\n",
        "\r\n",
        "        for val in values:\r\n",
        "            self.prediction[val] = len(x[x == val]) / len(x)\r\n",
        "\r\n",
        "        values, counts = np.unique(x, return_counts=True)\r\n",
        "        self.y = values[np.argmax(counts)]\r\n",
        "\r\n",
        "class DecisionTreeNode:\r\n",
        "    \"\"\"\r\n",
        "\r\n",
        "    Attributes\r\n",
        "    ----------\r\n",
        "    split_dim : int\r\n",
        "        Измерение, по которому разбиваем выборку.\r\n",
        "    split_value : float\r\n",
        "        Значение, по которому разбираем выборку.\r\n",
        "    left : Union[DecisionTreeNode, DecisionTreeLeaf]\r\n",
        "        Поддерево, отвечающее за случай x[split_dim] < split_value.\r\n",
        "    right : Union[DecisionTreeNode, DecisionTreeLeaf]\r\n",
        "        Поддерево, отвечающее за случай x[split_dim] >= split_value. \r\n",
        "    \"\"\"\r\n",
        "    def __init__(self, split_dim: int, split_value: float, \r\n",
        "                 left: Union['DecisionTreeNode', DecisionTreeLeaf], \r\n",
        "                 right: Union['DecisionTreeNode', DecisionTreeLeaf]):\r\n",
        "        self.split_dim = split_dim\r\n",
        "        self.split_value = split_value\r\n",
        "        self.left = left\r\n",
        "        self.right = right"
      ],
      "execution_count": 4,
      "outputs": []
    },
    {
      "cell_type": "code",
      "metadata": {
        "id": "8smLW2V_4q5_"
      },
      "source": [
        "class DecisionTree:\n",
        "    def __init__(self, X, y, criterion=\"gini\", max_depth=None, min_samples_leaf=1, max_features=\"auto\"):\n",
        "        self.max_features = max_features if isinstance(max_features, int) else int(np.sqrt(X.shape[1])) + 1\n",
        "        self.min_samples_leaf = min_samples_leaf if min_samples_leaf is not None else 0\n",
        "        self.criterion = gini if 'gini' else entropy\n",
        "        self.max_depth = max_depth if max_depth is not None else 1e+15\n",
        "\n",
        "        N = X.shape[0]\n",
        "        random_idx = np.random.choice(np.arange(N), N, replace=True)\n",
        "        self.X = X[random_idx]\n",
        "        self.y = y[random_idx]\n",
        "\n",
        "        self.oob_X = X[~random_idx]\n",
        "        self.oob_y = y[~random_idx]\n",
        "\n",
        "        self.root = None\n",
        "\n",
        "    def fit(self):\n",
        "        depth = 0\n",
        "        self.root = self.__split_tree(self.X, self.y, depth)\n",
        "\n",
        "    def __split_tree(self, X, y, depth):\n",
        "        depth += 1\n",
        "\n",
        "        if len(y) > self.min_samples_leaf:\n",
        "            gains = []\n",
        "\n",
        "            if X.shape[1] > self.max_features:\n",
        "                features = np.random.choice(np.arange(X.shape[1]), self.max_features, replace=False)\n",
        "            else:\n",
        "                features = np.arange(X.shape[1])\n",
        "\n",
        "            for dim in features:\n",
        "                gain, split_value = self.__split_tree_dim(X, y, dim)\n",
        "                gains.append((gain, split_value, dim))\n",
        "\n",
        "            best_gain, split_value, split_dim = max(gains, key=lambda x: x[0])\n",
        "            \n",
        "            left_mask = X[:, split_dim] < split_value\n",
        "            right_mask = ~left_mask\n",
        "\n",
        "            if len(X[left_mask]) == 0 or len(X[right_mask]) == 0 or depth > self.max_depth:\n",
        "                return DecisionTreeLeaf(y)\n",
        "\n",
        "            left = self.__split_tree(X[left_mask], y[left_mask], depth)\n",
        "            right = self.__split_tree(X[right_mask], y[right_mask], depth)\n",
        "\n",
        "            return DecisionTreeNode(split_dim, split_value, left, right)\n",
        "\n",
        "        return DecisionTreeLeaf(y)\n",
        "\n",
        "    def __split_tree_dim(self, X, y, split_dim):\n",
        "        x_dim = X[:, split_dim]\n",
        "\n",
        "        split_val = 0.5\n",
        "\n",
        "        left_y, right_y = y[x_dim < split_val], y[x_dim >= split_val]\n",
        "        gain_node = gain(left_y, right_y, self.criterion)\n",
        "\n",
        "        return gain_node, split_val\n",
        "\n",
        "    def __go_down(self, X, node):\n",
        "        y_pred = np.empty(X.shape[0], dtype=np.object)\n",
        "\n",
        "        if isinstance(node, DecisionTreeLeaf):\n",
        "            return node.prediction\n",
        "\n",
        "        left_node = X[:, node.split_dim] < node.split_value\n",
        "        y_pred[left_node] = self.__go_down(X[left_node], node.left)\n",
        "        y_pred[~left_node] = self.__go_down(X[~left_node], node.right)\n",
        "        \n",
        "        return y_pred\n",
        "\n",
        "    def predict_proba(self, X: np.ndarray) ->  List[Dict[Any, float]]:       \n",
        "        return list(self.__go_down(X, self.root))\n",
        "        \n",
        "    def predict(self, X) -> list:\n",
        "        proba = self.predict_proba(X)\n",
        "        return [max(p.keys(), key=lambda k: p[k]) for p in proba]"
      ],
      "execution_count": 74,
      "outputs": []
    },
    {
      "cell_type": "markdown",
      "metadata": {
        "id": "9oijgwLt4q6A"
      },
      "source": [
        "### Задание 2 (2 балла)\n",
        "Теперь реализуем сам Random Forest. Идея очень простая: строим `n` деревьев, а затем берем модальное предсказание.\n",
        "\n",
        "#### Параметры конструктора\n",
        "`n_estimators` - количество используемых для предсказания деревьев.\n",
        "\n",
        "Остальное - параметры деревьев.\n",
        "\n",
        "#### Методы\n",
        "`fit(X, y)` - строит `n_estimators` деревьев по выборке `X`.\n",
        "\n",
        "`predict(X)` - для каждого элемента выборки `X` возвращает самый частый класс, который предсказывают для него деревья."
      ]
    },
    {
      "cell_type": "code",
      "metadata": {
        "id": "APIy88YW4q6A"
      },
      "source": [
        "from tqdm.notebook import tqdm\n",
        "\n",
        "class RandomForestClassifier:\n",
        "    def __init__(self, criterion=\"gini\", max_depth=None, min_samples_leaf=1, max_features=\"auto\", n_estimators=10):\n",
        "        self.n_estimators = n_estimators\n",
        "        self.max_depth = max_depth\n",
        "        self.min_samples_leaf = min_samples_leaf\n",
        "        self.max_features = max_features\n",
        "        self.criterion = criterion\n",
        "\n",
        "        self.trees = []\n",
        "    \n",
        "    def fit(self, X, y):\n",
        "        for i in tqdm(range(self.n_estimators)):\n",
        "            tree = DecisionTree(X, y, self.criterion, self.max_depth, self.min_samples_leaf, self.max_features)\n",
        "            tree.fit()\n",
        "\n",
        "            self.trees.append(tree)\n",
        "    \n",
        "    def predict(self, X):\n",
        "        preds = self.trees[0].predict(X)\n",
        "\n",
        "        for tree in self.trees[1:]:\n",
        "            preds = np.vstack((preds, tree.predict(X)))\n",
        "        \n",
        "        return mode(preds, axis=0)[0].squeeze()"
      ],
      "execution_count": 81,
      "outputs": []
    },
    {
      "cell_type": "markdown",
      "metadata": {
        "id": "i80pffMn4q6A"
      },
      "source": [
        "### Задание 3 (2 балла)\n",
        "Часто хочется понимать, насколько большую роль играет тот или иной признак для предсказания класса объекта. Есть различные способы посчитать его важность. Один из простых способов сделать это для Random Forest - посчитать out-of-bag ошибку предсказания `err_oob`, а затем перемешать значения признака `j` и посчитать ее (`err_oob_j`) еще раз. Оценкой важности признака `j` для одного дерева будет разность `err_oob_j - err_oob`, важность для всего леса считается как среднее значение важности по деревьям.\n",
        "\n",
        "Реализуйте функцию `feature_importance`, которая принимает на вход Random Forest и возвращает массив, в котором содержится важность для каждого признака."
      ]
    },
    {
      "cell_type": "code",
      "metadata": {
        "id": "rEmVG1Fl4q6B"
      },
      "source": [
        "def feature_importance(rfc):\n",
        "    err_j = np.zeros((len(rfc.trees), rfc.trees[0].oob_X.shape[1]))\n",
        "\n",
        "    for i, tree in enumerate(rfc.trees):\n",
        "        oob_X, oob_y = tree.oob_X, tree.oob_y\n",
        "        N, M = oob_X.shape\n",
        "\n",
        "        err_oob = np.mean(tree.predict(oob_X) == oob_y)        \n",
        "\n",
        "        for j in np.arange(M):\n",
        "            shuffled_X = oob_X.copy()\n",
        "            random_idx = np.random.choice(np.arange(N), N, replace=False)\n",
        "            shuffled_X[:, j] = oob_X[:, j][random_idx]\n",
        "\n",
        "            err_oob_j = np.mean(tree.predict(shuffled_X) == oob_y)\n",
        "            err_j[i][j] = err_oob - err_oob_j\n",
        "\n",
        "    err_j = np.mean(err_j, axis=0)\n",
        "    return err_j\n",
        "\n",
        "def most_important_features(importance, names, k=20):\n",
        "    # Выводит названия k самых важных признаков\n",
        "    idicies = np.argsort(importance)[::-1][:k]\n",
        "    return np.array(names)[idicies]"
      ],
      "execution_count": 11,
      "outputs": []
    },
    {
      "cell_type": "markdown",
      "metadata": {
        "id": "JooN_YKm4q6B"
      },
      "source": [
        "Наконец, пришло время протестировать наше дерево на простом синтетическом наборе данных. В результате точность должна быть примерно равна `1.0`, наибольшее значение важности должно быть у признака с индексом `4`, признаки с индексами `2` и `3`  должны быть одинаково важны, а остальные признаки - не важны совсем."
      ]
    },
    {
      "cell_type": "code",
      "metadata": {
        "id": "8gqYMp994q6B",
        "colab": {
          "base_uri": "https://localhost:8080/",
          "height": 100,
          "referenced_widgets": [
            "a9db9fbf97b44b629d1fca5ce1a8f103",
            "e4c8f06f7d284dacacd66fc4d9cb3797",
            "034f90084f8e4724914431174db2cc7b",
            "d262b8ea45f1488ca9975cbd8db6c8aa",
            "a8cf460b27cb428aa68331ca3acce0f9",
            "04315a508c7d45cbbd3940a67bd3bc40",
            "be5940926cc94d458e1ac7d97b2ab111",
            "7b548660e1d94cc1b0cc33c0b28f69a9"
          ]
        },
        "outputId": "d6a118e4-a195-4065-f492-d7c593e09a4d"
      },
      "source": [
        "def synthetic_dataset(size):\n",
        "    X = [(np.random.randint(0, 2), np.random.randint(0, 2), i % 6 == 3, \n",
        "          i % 6 == 0, i % 3 == 2, np.random.randint(0, 2)) for i in range(size)]\n",
        "    y = [i % 3 for i in range(size)]\n",
        "    return np.array(X), np.array(y)\n",
        "\n",
        "X, y = synthetic_dataset(1000)\n",
        "rfc = RandomForestClassifier(n_estimators=100)\n",
        "rfc.fit(X, y)\n",
        "\n",
        "print(\"Accuracy:\", np.mean(rfc.predict(X) == y))\n",
        "print(\"Importance:\", feature_importance(rfc))"
      ],
      "execution_count": 83,
      "outputs": [
        {
          "output_type": "display_data",
          "data": {
            "application/vnd.jupyter.widget-view+json": {
              "model_id": "a9db9fbf97b44b629d1fca5ce1a8f103",
              "version_minor": 0,
              "version_major": 2
            },
            "text/plain": [
              "HBox(children=(FloatProgress(value=0.0), HTML(value='')))"
            ]
          },
          "metadata": {
            "tags": []
          }
        },
        {
          "output_type": "stream",
          "text": [
            "\n",
            "Accuracy: 1.0\n",
            "Importance: [4.2000e-04 1.0000e-05 2.0176e-01 2.0637e-01 3.9501e-01 4.2000e-04]\n"
          ],
          "name": "stdout"
        }
      ]
    },
    {
      "cell_type": "markdown",
      "metadata": {
        "id": "vRtGOs164q6C"
      },
      "source": [
        "### Задание 4 (1 балл)\n",
        "Теперь поработаем с реальными данными.\n",
        "\n",
        "Выборка состоит из публичных анонимизированных данных пользователей социальной сети Вконтакте. Первые два столбца отражают возрастную группу (`zoomer`, `doomer` и `boomer`) и пол (`female`, `male`). Все остальные столбцы являются бинарными признаками, каждый из них определяет, подписан ли пользователь на определенную группу/публичную страницу или нет.\\\n",
        "\\\n",
        "Необходимо обучить два классификатора, один из которых определяет возрастную группу, а второй - пол.\\\n",
        "\\\n",
        "Эксперименты с множеством используемых признаков и подбор гиперпараметров приветствуются. Лес должен строиться за какое-то разумное время."
      ]
    },
    {
      "cell_type": "code",
      "metadata": {
        "id": "HruobK-q4q6C"
      },
      "source": [
        "def read_dataset(path):\n",
        "    dataframe = pandas.read_csv(path, header=0)\n",
        "    dataset = dataframe.values.tolist()\n",
        "    random.shuffle(dataset)\n",
        "    y_age = [row[0] for row in dataset]\n",
        "    y_sex = [row[1] for row in dataset]\n",
        "    X = [row[2:] for row in dataset]\n",
        "    \n",
        "    return np.array(X), np.array(y_age), np.array(y_sex), list(dataframe.columns)[2:]"
      ],
      "execution_count": 5,
      "outputs": []
    },
    {
      "cell_type": "code",
      "metadata": {
        "id": "K0QXWr3b4q6C"
      },
      "source": [
        "X, y_age, y_sex, features = read_dataset(\"vk.csv\")\n",
        "X_train, X_test, y_age_train, y_age_test, y_sex_train, y_sex_test = train_test_split(X, y_age, y_sex, train_size=0.9)"
      ],
      "execution_count": 85,
      "outputs": []
    },
    {
      "cell_type": "markdown",
      "metadata": {
        "id": "I0y8J97m4q6C"
      },
      "source": [
        "#### Возраст"
      ]
    },
    {
      "cell_type": "code",
      "metadata": {
        "id": "MLJykJZH4q6C",
        "colab": {
          "base_uri": "https://localhost:8080/",
          "height": 474,
          "referenced_widgets": [
            "482ff1477d8346db8f56751d03a0c273",
            "084140f45cf64fe6a741add5534e306f",
            "bc3c7cb3dfdb4ec78137caf3a4bfcd53",
            "98ad358ef4014665a51fb1fc3b62358e",
            "2a59db479bc640dab3b1d92895ae607c",
            "d41ba018963b4640aff3d6254b86ffc1",
            "5f89e05c326f43ec92e865f21b3011e0",
            "39867b7d30594e9c95b0fafb8653d1fe"
          ]
        },
        "outputId": "d697e84e-3fa2-4c37-ada5-2c92a93e13f4"
      },
      "source": [
        "%%time\n",
        "\n",
        "rfc = RandomForestClassifier(n_estimators=100, max_depth=15, min_samples_leaf=10)\n",
        "\n",
        "rfc.fit(X_train, y_age_train)\n",
        "print(\"Accuracy:\", np.mean(rfc.predict(X_test) == y_age_test))\n",
        "print(\"Most important features:\")\n",
        "for i, name in enumerate(most_important_features(feature_importance(rfc), features, 20)):\n",
        "    print(str(i+1) + \".\", name)"
      ],
      "execution_count": 87,
      "outputs": [
        {
          "output_type": "display_data",
          "data": {
            "application/vnd.jupyter.widget-view+json": {
              "model_id": "482ff1477d8346db8f56751d03a0c273",
              "version_minor": 0,
              "version_major": 2
            },
            "text/plain": [
              "HBox(children=(FloatProgress(value=0.0), HTML(value='')))"
            ]
          },
          "metadata": {
            "tags": []
          }
        },
        {
          "output_type": "stream",
          "text": [
            "\n",
            "Accuracy: 0.694829760403531\n",
            "Most important features:\n",
            "1. mudakoff\n",
            "2. ovsyanochan\n",
            "3. 4ch\n",
            "4. rhymes\n",
            "5. styd.pozor\n",
            "6. dayvinchik\n",
            "7. tumblr_vacuum\n",
            "8. rapnewrap\n",
            "9. iwantyou\n",
            "10. pixel_stickers\n",
            "11. pravdashowtop\n",
            "12. reflexia_our_feelings\n",
            "13. leprum\n",
            "14. i_des\n",
            "15. bot_maxim\n",
            "16. xfilm\n",
            "17. pozor\n",
            "18. memeboizz\n",
            "19. thesmolny\n",
            "20. ne.poverish\n",
            "CPU times: user 13min 57s, sys: 26.9 s, total: 14min 23s\n",
            "Wall time: 14min 26s\n"
          ],
          "name": "stdout"
        }
      ]
    },
    {
      "cell_type": "code",
      "metadata": {
        "colab": {
          "base_uri": "https://localhost:8080/"
        },
        "id": "UlRbEl73FjaQ",
        "outputId": "03283737-6da1-4672-e85b-f4a20b7efbe3"
      },
      "source": [
        "from sklearn import ensemble\r\n",
        "\r\n",
        "rfc = ensemble.RandomForestClassifier(n_estimators=100)\r\n",
        "\r\n",
        "rfc.fit(X_train, y_age_train)\r\n",
        "print(\"Accuracy:\", np.mean(rfc.predict(X_test) == y_age_test))"
      ],
      "execution_count": 88,
      "outputs": [
        {
          "output_type": "stream",
          "text": [
            "Accuracy: 0.7667087011349306\n"
          ],
          "name": "stdout"
        }
      ]
    },
    {
      "cell_type": "markdown",
      "metadata": {
        "id": "cgNpaAKH4q6D"
      },
      "source": [
        "#### Пол"
      ]
    },
    {
      "cell_type": "code",
      "metadata": {
        "id": "X-zne5-R4q6D",
        "colab": {
          "base_uri": "https://localhost:8080/",
          "height": 440,
          "referenced_widgets": [
            "81d3b63ea7174175a314d01e94f1337b",
            "5fb11f27ae4f4a5a8f2cedaa3272fce7",
            "9fdbb654cd264fac8db4e6a70eb3f4ca",
            "56016d690952456db376450492e9452a",
            "0d367f32171e4b789513dac5b4467c13",
            "991e3b8bd6884822ab527f5ee1fcea85",
            "e62816a82752459daad8e8ccbd532ad7",
            "c292e251717c417bb9447732183807c1"
          ]
        },
        "outputId": "711025f9-14c5-482c-8364-9e427bb7eb0b"
      },
      "source": [
        "rfc = RandomForestClassifier(n_estimators=100, max_depth=15, min_samples_leaf=10)\n",
        "rfc.fit(X_train, y_sex_train)\n",
        "\n",
        "print(\"Accuracy:\", np.mean(rfc.predict(X_test) == y_sex_test))\n",
        "print(\"Most important features:\")\n",
        "for i, name in enumerate(most_important_features(feature_importance(rfc), features, 20)):\n",
        "    print(str(i+1) + \".\", name)"
      ],
      "execution_count": 90,
      "outputs": [
        {
          "output_type": "display_data",
          "data": {
            "application/vnd.jupyter.widget-view+json": {
              "model_id": "81d3b63ea7174175a314d01e94f1337b",
              "version_minor": 0,
              "version_major": 2
            },
            "text/plain": [
              "HBox(children=(FloatProgress(value=0.0), HTML(value='')))"
            ]
          },
          "metadata": {
            "tags": []
          }
        },
        {
          "output_type": "stream",
          "text": [
            "\n",
            "Accuracy: 0.7894073139974779\n",
            "Most important features:\n",
            "1. 40kg\n",
            "2. girlmeme\n",
            "3. zerofat\n",
            "4. mudakoff\n",
            "5. modnailru\n",
            "6. 9o_6o_9o\n",
            "7. cook_good\n",
            "8. i_d_t\n",
            "9. be.beauty\n",
            "10. sh.cook\n",
            "11. femalemem\n",
            "12. igm\n",
            "13. thesmolny\n",
            "14. be.women\n",
            "15. reflexia_our_feelings\n",
            "16. 4ch\n",
            "17. recipes40kg\n",
            "18. bon\n",
            "19. soverwenstvo.decora\n",
            "20. woman.blog\n"
          ],
          "name": "stdout"
        }
      ]
    },
    {
      "cell_type": "code",
      "metadata": {
        "colab": {
          "base_uri": "https://localhost:8080/"
        },
        "id": "VdpEWfV4GQYP",
        "outputId": "f91c5b61-d9f5-4edf-e25d-c7dc7e943e9f"
      },
      "source": [
        "rfc = ensemble.RandomForestClassifier(n_estimators=100)\r\n",
        "rfc.fit(X_train, y_sex_train)\r\n",
        "print(\"Accuracy:\", np.mean(rfc.predict(X_test) == y_sex_test))"
      ],
      "execution_count": 91,
      "outputs": [
        {
          "output_type": "stream",
          "text": [
            "Accuracy: 0.8638083228247163\n"
          ],
          "name": "stdout"
        }
      ]
    },
    {
      "cell_type": "markdown",
      "metadata": {
        "id": "pxeTQylQ4q6D"
      },
      "source": [
        "### CatBoost\n",
        "В качестве аьтернативы попробуем CatBoost. \n",
        "\n",
        "Устаниовить его можно просто с помощью `pip install catboost`. Туториалы можно найти, например, [здесь](https://catboost.ai/docs/concepts/python-usages-examples.html#multiclassification) и [здесь](https://github.com/catboost/tutorials/blob/master/python_tutorial.ipynb). Главное - не забудьте использовать `loss_function='MultiClass'`.\\\n",
        "\\\n",
        "Сначала протестируйте CatBoost на синтетических данных. Выведите точность и важность признаков."
      ]
    },
    {
      "cell_type": "code",
      "metadata": {
        "id": "LQhbtJ-SOUfs"
      },
      "source": [
        "cat_params = {\r\n",
        "                'n_estimators':5000,\r\n",
        "                'learning_rate': 0.01,\r\n",
        "#                'eval_metric':'AUC',\r\n",
        "                'loss_function':'MultiClass',\r\n",
        "                'random_seed': 42,\r\n",
        "                'metric_period':5000,\r\n",
        "                'od_wait':500,\r\n",
        "                'task_type':'CPU',\r\n",
        "                'depth': 8,\r\n",
        "                }"
      ],
      "execution_count": 94,
      "outputs": []
    },
    {
      "cell_type": "code",
      "metadata": {
        "id": "DOqVkEnd4q6D",
        "colab": {
          "base_uri": "https://localhost:8080/"
        },
        "outputId": "77eb5444-7399-47a2-8cac-917284cf2a7a"
      },
      "source": [
        "X, y = synthetic_dataset(1000)\n",
        "\n",
        "clf = CatBoostClassifier(**cat_params)\n",
        "clf.fit(X, y)\n",
        "\n",
        "y_pred = clf.predict(X).reshape(1, -1)\n",
        "\n",
        "print(\"Accuracy:\", np.mean(y_pred == y))\n",
        "print(\"Importance:\", clf.get_feature_importance())"
      ],
      "execution_count": 95,
      "outputs": [
        {
          "output_type": "stream",
          "text": [
            "0:\tlearn: 1.0793979\ttotal: 49.2ms\tremaining: 4m 5s\n",
            "4999:\tlearn: 0.0006090\ttotal: 4.04s\tremaining: 0us\n",
            "Accuracy: 1.0\n",
            "Importance: [1.11412711e-02 1.04435330e-02 2.78226570e+01 2.78208330e+01\n",
            " 4.43253256e+01 9.59964946e-03]\n"
          ],
          "name": "stdout"
        }
      ]
    },
    {
      "cell_type": "markdown",
      "metadata": {
        "id": "tcLRsSNG4q6E"
      },
      "source": [
        "### Задание 5 (3 балла)\n",
        "Попробуем применить один из используемых на практике алгоритмов. В этом нам поможет CatBoost. Также, как и реализованный ними RandomForest, применим его для определения пола и возраста пользователей сети Вконтакте, выведите названия наиболее важных признаков так же, как в задании 3.\\\n",
        "\\\n",
        "Эксперименты с множеством используемых признаков и подбор гиперпараметров приветствуются."
      ]
    },
    {
      "cell_type": "code",
      "metadata": {
        "id": "hJGrQcO-4q6E"
      },
      "source": [
        "X, y_age, y_sex, features = read_dataset(\"vk.csv\")\n",
        "X_train, X_test, y_age_train, y_age_test, y_sex_train, y_sex_test = train_test_split(X, y_age, y_sex, train_size=0.9)\n",
        "X_train, X_eval, y_age_train, y_age_eval, y_sex_train, y_sex_eval = train_test_split(X_train, y_age_train, y_sex_train, train_size=0.8)"
      ],
      "execution_count": 7,
      "outputs": []
    },
    {
      "cell_type": "code",
      "metadata": {
        "id": "QFLchw5rQXsc"
      },
      "source": [
        "cat_params = {\r\n",
        "                'n_estimators':5000,\r\n",
        "                'learning_rate': 0.005,\r\n",
        "                'eval_metric':'Accuracy',\r\n",
        "                'loss_function':'MultiClass',\r\n",
        "                'random_seed': 42,\r\n",
        "                'metric_period':500,\r\n",
        "                'od_wait':500,\r\n",
        "                'task_type':'GPU',\r\n",
        "                'depth': 10,\r\n",
        "                }"
      ],
      "execution_count": 8,
      "outputs": []
    },
    {
      "cell_type": "markdown",
      "metadata": {
        "id": "XA5f_8eC4q6E"
      },
      "source": [
        "#### Возраст"
      ]
    },
    {
      "cell_type": "code",
      "metadata": {
        "id": "qSeUpxPj4q6E",
        "colab": {
          "base_uri": "https://localhost:8080/"
        },
        "outputId": "9fa13bf7-3fbc-4645-df26-719c992ab9f4"
      },
      "source": [
        "clf = CatBoostClassifier(**cat_params)\n",
        "clf.fit(X_train, y_age_train, eval_set=(X_eval, y_age_eval),\n",
        "            cat_features=np.arange(X.shape[1]),\n",
        "            use_best_model=True,\n",
        "            verbose=True)\n",
        "\n",
        "y_pred = clf.predict(X_test).reshape(1, -1)\n",
        "\n",
        "print(\"Accuracy:\", np.mean(y_pred == y_age_test))\n",
        "print(\"Most important features:\")\n",
        "for i, name in enumerate(most_important_features(clf.get_feature_importance(), features, 10)):\n",
        "    print(str(i+1) + \".\", name)"
      ],
      "execution_count": 12,
      "outputs": [
        {
          "output_type": "stream",
          "text": [
            "0:\tlearn: 0.6302595\ttest: 0.6033637\tbest: 0.6033637 (0)\ttotal: 25.1ms\tremaining: 2m 5s\n",
            "500:\tlearn: 0.7307153\ttest: 0.7021724\tbest: 0.7021724 (498)\ttotal: 10.6s\tremaining: 1m 35s\n",
            "1000:\tlearn: 0.7710379\ttest: 0.7196917\tbest: 0.7203924 (990)\ttotal: 21.1s\tremaining: 1m 24s\n",
            "1500:\tlearn: 0.7994390\ttest: 0.7274001\tbest: 0.7274001 (1498)\ttotal: 31.1s\tremaining: 1m 12s\n",
            "2000:\tlearn: 0.8199509\ttest: 0.7302032\tbest: 0.7302032 (1969)\ttotal: 41.7s\tremaining: 1m 2s\n",
            "2500:\tlearn: 0.8392356\ttest: 0.7323055\tbest: 0.7323055 (2272)\ttotal: 52.4s\tremaining: 52.4s\n",
            "3000:\tlearn: 0.8558906\ttest: 0.7316048\tbest: 0.7337071 (2875)\ttotal: 1m 2s\tremaining: 41.9s\n",
            "3500:\tlearn: 0.8707924\ttest: 0.7365102\tbest: 0.7365102 (3303)\ttotal: 1m 13s\tremaining: 31.5s\n",
            "4000:\tlearn: 0.8813114\ttest: 0.7379117\tbest: 0.7393132 (3598)\ttotal: 1m 24s\tremaining: 21.1s\n",
            "bestTest = 0.7393132446\n",
            "bestIteration = 3598\n",
            "Shrink model to first 3599 iterations.\n",
            "Accuracy: 0.7402269861286255\n",
            "Most important features:\n",
            "1. ovsyanochan\n",
            "2. styd.pozor\n",
            "3. 4ch\n",
            "4. dayvinchik\n",
            "5. leprum\n",
            "6. mudakoff\n",
            "7. rhymes\n",
            "8. xfilm\n",
            "9. fuck_humor\n",
            "10. borsch\n"
          ],
          "name": "stdout"
        }
      ]
    },
    {
      "cell_type": "markdown",
      "metadata": {
        "id": "KfYSptm74q6E"
      },
      "source": [
        "#### Пол"
      ]
    },
    {
      "cell_type": "code",
      "metadata": {
        "id": "4rKa-f6F4q6E",
        "colab": {
          "base_uri": "https://localhost:8080/"
        },
        "outputId": "a7eb3f8c-cc2f-436c-8e04-403e4aa79abb"
      },
      "source": [
        "clf = CatBoostClassifier(**cat_params)\n",
        "clf.fit(X_train, y_sex_train, eval_set=(X_eval, y_sex_eval),\n",
        "            cat_features=np.arange(X.shape[1]),\n",
        "            use_best_model=True,\n",
        "            verbose=True)\n",
        "\n",
        "y_pred = clf.predict(X_test).reshape(1, -1)\n",
        "\n",
        "print(\"Accuracy:\", np.mean(y_pred == y_sex_test))\n",
        "print(\"Most important features:\")\n",
        "for i, name in enumerate(most_important_features(clf.get_feature_importance(), features, 10)):\n",
        "    print(str(i+1) + \".\", name)"
      ],
      "execution_count": 13,
      "outputs": [
        {
          "output_type": "stream",
          "text": [
            "0:\tlearn: 0.7487728\ttest: 0.7189909\tbest: 0.7189909 (0)\ttotal: 21.8ms\tremaining: 1m 48s\n",
            "500:\tlearn: 0.8639551\ttest: 0.8556412\tbest: 0.8556412 (470)\ttotal: 9.42s\tremaining: 1m 24s\n",
            "1000:\tlearn: 0.8795582\ttest: 0.8654520\tbest: 0.8654520 (787)\ttotal: 18.5s\tremaining: 1m 13s\n",
            "1500:\tlearn: 0.8884993\ttest: 0.8703574\tbest: 0.8717589 (1417)\ttotal: 27.8s\tremaining: 1m 4s\n",
            "2000:\tlearn: 0.8963885\ttest: 0.8724597\tbest: 0.8724597 (1914)\ttotal: 37.1s\tremaining: 55.7s\n",
            "2500:\tlearn: 0.9055049\ttest: 0.8710582\tbest: 0.8731605 (2026)\ttotal: 46.6s\tremaining: 46.6s\n",
            "bestTest = 0.8731604765\n",
            "bestIteration = 2026\n",
            "Shrink model to first 2027 iterations.\n",
            "Accuracy: 0.8600252206809584\n",
            "Most important features:\n",
            "1. 40kg\n",
            "2. girlmeme\n",
            "3. mudakoff\n",
            "4. modnailru\n",
            "5. femalemem\n",
            "6. thesmolny\n",
            "7. reflexia_our_feelings\n",
            "8. zerofat\n",
            "9. rapnewrap\n",
            "10. i_d_t\n"
          ],
          "name": "stdout"
        }
      ]
    },
    {
      "cell_type": "code",
      "metadata": {
        "id": "T_py23oH5xJF"
      },
      "source": [
        ""
      ],
      "execution_count": null,
      "outputs": []
    }
  ]
}