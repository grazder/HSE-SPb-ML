{
  "nbformat": 4,
  "nbformat_minor": 0,
  "metadata": {
    "kernelspec": {
      "display_name": "Python 3",
      "language": "python",
      "name": "python3"
    },
    "language_info": {
      "codemirror_mode": {
        "name": "ipython",
        "version": 3
      },
      "file_extension": ".py",
      "mimetype": "text/x-python",
      "name": "python",
      "nbconvert_exporter": "python",
      "pygments_lexer": "ipython3",
      "version": "3.7.3"
    },
    "colab": {
      "name": "hw01_task_Korepanov.ipynb",
      "provenance": [],
      "collapsed_sections": [],
      "toc_visible": true
    },
    "widgets": {
      "application/vnd.jupyter.widget-state+json": {
        "fdf70374935d4df29a14490a4c436667": {
          "model_module": "@jupyter-widgets/controls",
          "model_name": "HBoxModel",
          "state": {
            "_view_name": "HBoxView",
            "_dom_classes": [],
            "_model_name": "HBoxModel",
            "_view_module": "@jupyter-widgets/controls",
            "_model_module_version": "1.5.0",
            "_view_count": null,
            "_view_module_version": "1.5.0",
            "box_style": "",
            "layout": "IPY_MODEL_35ffec19511f4562811116929947c447",
            "_model_module": "@jupyter-widgets/controls",
            "children": [
              "IPY_MODEL_961df85d2cfe4dbdb46ccd90fc317b7d",
              "IPY_MODEL_e2a5a8615dd441baa042cf34fafc6933"
            ]
          }
        },
        "35ffec19511f4562811116929947c447": {
          "model_module": "@jupyter-widgets/base",
          "model_name": "LayoutModel",
          "state": {
            "_view_name": "LayoutView",
            "grid_template_rows": null,
            "right": null,
            "justify_content": null,
            "_view_module": "@jupyter-widgets/base",
            "overflow": null,
            "_model_module_version": "1.2.0",
            "_view_count": null,
            "flex_flow": null,
            "width": null,
            "min_width": null,
            "border": null,
            "align_items": null,
            "bottom": null,
            "_model_module": "@jupyter-widgets/base",
            "top": null,
            "grid_column": null,
            "overflow_y": null,
            "overflow_x": null,
            "grid_auto_flow": null,
            "grid_area": null,
            "grid_template_columns": null,
            "flex": null,
            "_model_name": "LayoutModel",
            "justify_items": null,
            "grid_row": null,
            "max_height": null,
            "align_content": null,
            "visibility": null,
            "align_self": null,
            "height": null,
            "min_height": null,
            "padding": null,
            "grid_auto_rows": null,
            "grid_gap": null,
            "max_width": null,
            "order": null,
            "_view_module_version": "1.2.0",
            "grid_template_areas": null,
            "object_position": null,
            "object_fit": null,
            "grid_auto_columns": null,
            "margin": null,
            "display": null,
            "left": null
          }
        },
        "961df85d2cfe4dbdb46ccd90fc317b7d": {
          "model_module": "@jupyter-widgets/controls",
          "model_name": "FloatProgressModel",
          "state": {
            "_view_name": "ProgressView",
            "style": "IPY_MODEL_05f8d245c9f44fabbcc0bfe59c97eaa8",
            "_dom_classes": [],
            "description": "100%",
            "_model_name": "FloatProgressModel",
            "bar_style": "success",
            "max": 30,
            "_view_module": "@jupyter-widgets/controls",
            "_model_module_version": "1.5.0",
            "value": 30,
            "_view_count": null,
            "_view_module_version": "1.5.0",
            "orientation": "horizontal",
            "min": 0,
            "description_tooltip": null,
            "_model_module": "@jupyter-widgets/controls",
            "layout": "IPY_MODEL_a62adab7a97c4384a57b73d48d51bce3"
          }
        },
        "e2a5a8615dd441baa042cf34fafc6933": {
          "model_module": "@jupyter-widgets/controls",
          "model_name": "HTMLModel",
          "state": {
            "_view_name": "HTMLView",
            "style": "IPY_MODEL_803ea13c9958481c8cb17289785d4997",
            "_dom_classes": [],
            "description": "",
            "_model_name": "HTMLModel",
            "placeholder": "​",
            "_view_module": "@jupyter-widgets/controls",
            "_model_module_version": "1.5.0",
            "value": " 30/30 [00:22&lt;00:00,  1.32it/s]",
            "_view_count": null,
            "_view_module_version": "1.5.0",
            "description_tooltip": null,
            "_model_module": "@jupyter-widgets/controls",
            "layout": "IPY_MODEL_39829ac856054a6ba1d8df677ff6560f"
          }
        },
        "05f8d245c9f44fabbcc0bfe59c97eaa8": {
          "model_module": "@jupyter-widgets/controls",
          "model_name": "ProgressStyleModel",
          "state": {
            "_view_name": "StyleView",
            "_model_name": "ProgressStyleModel",
            "description_width": "initial",
            "_view_module": "@jupyter-widgets/base",
            "_model_module_version": "1.5.0",
            "_view_count": null,
            "_view_module_version": "1.2.0",
            "bar_color": null,
            "_model_module": "@jupyter-widgets/controls"
          }
        },
        "a62adab7a97c4384a57b73d48d51bce3": {
          "model_module": "@jupyter-widgets/base",
          "model_name": "LayoutModel",
          "state": {
            "_view_name": "LayoutView",
            "grid_template_rows": null,
            "right": null,
            "justify_content": null,
            "_view_module": "@jupyter-widgets/base",
            "overflow": null,
            "_model_module_version": "1.2.0",
            "_view_count": null,
            "flex_flow": null,
            "width": null,
            "min_width": null,
            "border": null,
            "align_items": null,
            "bottom": null,
            "_model_module": "@jupyter-widgets/base",
            "top": null,
            "grid_column": null,
            "overflow_y": null,
            "overflow_x": null,
            "grid_auto_flow": null,
            "grid_area": null,
            "grid_template_columns": null,
            "flex": null,
            "_model_name": "LayoutModel",
            "justify_items": null,
            "grid_row": null,
            "max_height": null,
            "align_content": null,
            "visibility": null,
            "align_self": null,
            "height": null,
            "min_height": null,
            "padding": null,
            "grid_auto_rows": null,
            "grid_gap": null,
            "max_width": null,
            "order": null,
            "_view_module_version": "1.2.0",
            "grid_template_areas": null,
            "object_position": null,
            "object_fit": null,
            "grid_auto_columns": null,
            "margin": null,
            "display": null,
            "left": null
          }
        },
        "803ea13c9958481c8cb17289785d4997": {
          "model_module": "@jupyter-widgets/controls",
          "model_name": "DescriptionStyleModel",
          "state": {
            "_view_name": "StyleView",
            "_model_name": "DescriptionStyleModel",
            "description_width": "",
            "_view_module": "@jupyter-widgets/base",
            "_model_module_version": "1.5.0",
            "_view_count": null,
            "_view_module_version": "1.2.0",
            "_model_module": "@jupyter-widgets/controls"
          }
        },
        "39829ac856054a6ba1d8df677ff6560f": {
          "model_module": "@jupyter-widgets/base",
          "model_name": "LayoutModel",
          "state": {
            "_view_name": "LayoutView",
            "grid_template_rows": null,
            "right": null,
            "justify_content": null,
            "_view_module": "@jupyter-widgets/base",
            "overflow": null,
            "_model_module_version": "1.2.0",
            "_view_count": null,
            "flex_flow": null,
            "width": null,
            "min_width": null,
            "border": null,
            "align_items": null,
            "bottom": null,
            "_model_module": "@jupyter-widgets/base",
            "top": null,
            "grid_column": null,
            "overflow_y": null,
            "overflow_x": null,
            "grid_auto_flow": null,
            "grid_area": null,
            "grid_template_columns": null,
            "flex": null,
            "_model_name": "LayoutModel",
            "justify_items": null,
            "grid_row": null,
            "max_height": null,
            "align_content": null,
            "visibility": null,
            "align_self": null,
            "height": null,
            "min_height": null,
            "padding": null,
            "grid_auto_rows": null,
            "grid_gap": null,
            "max_width": null,
            "order": null,
            "_view_module_version": "1.2.0",
            "grid_template_areas": null,
            "object_position": null,
            "object_fit": null,
            "grid_auto_columns": null,
            "margin": null,
            "display": null,
            "left": null
          }
        },
        "1635e6b83909495a8093dc99df212e7a": {
          "model_module": "@jupyter-widgets/controls",
          "model_name": "HBoxModel",
          "state": {
            "_view_name": "HBoxView",
            "_dom_classes": [],
            "_model_name": "HBoxModel",
            "_view_module": "@jupyter-widgets/controls",
            "_model_module_version": "1.5.0",
            "_view_count": null,
            "_view_module_version": "1.5.0",
            "box_style": "",
            "layout": "IPY_MODEL_629f052717ad429cbea6d31a6c02aebb",
            "_model_module": "@jupyter-widgets/controls",
            "children": [
              "IPY_MODEL_f734524f55cf4c16917fb53c4cae475e",
              "IPY_MODEL_ff31ea73b6ec4a718f7949371b92beb8"
            ]
          }
        },
        "629f052717ad429cbea6d31a6c02aebb": {
          "model_module": "@jupyter-widgets/base",
          "model_name": "LayoutModel",
          "state": {
            "_view_name": "LayoutView",
            "grid_template_rows": null,
            "right": null,
            "justify_content": null,
            "_view_module": "@jupyter-widgets/base",
            "overflow": null,
            "_model_module_version": "1.2.0",
            "_view_count": null,
            "flex_flow": null,
            "width": null,
            "min_width": null,
            "border": null,
            "align_items": null,
            "bottom": null,
            "_model_module": "@jupyter-widgets/base",
            "top": null,
            "grid_column": null,
            "overflow_y": null,
            "overflow_x": null,
            "grid_auto_flow": null,
            "grid_area": null,
            "grid_template_columns": null,
            "flex": null,
            "_model_name": "LayoutModel",
            "justify_items": null,
            "grid_row": null,
            "max_height": null,
            "align_content": null,
            "visibility": null,
            "align_self": null,
            "height": null,
            "min_height": null,
            "padding": null,
            "grid_auto_rows": null,
            "grid_gap": null,
            "max_width": null,
            "order": null,
            "_view_module_version": "1.2.0",
            "grid_template_areas": null,
            "object_position": null,
            "object_fit": null,
            "grid_auto_columns": null,
            "margin": null,
            "display": null,
            "left": null
          }
        },
        "f734524f55cf4c16917fb53c4cae475e": {
          "model_module": "@jupyter-widgets/controls",
          "model_name": "FloatProgressModel",
          "state": {
            "_view_name": "ProgressView",
            "style": "IPY_MODEL_1bc4d680cc734ddab40b7fb19de420cf",
            "_dom_classes": [],
            "description": "100%",
            "_model_name": "FloatProgressModel",
            "bar_style": "success",
            "max": 10,
            "_view_module": "@jupyter-widgets/controls",
            "_model_module_version": "1.5.0",
            "value": 10,
            "_view_count": null,
            "_view_module_version": "1.5.0",
            "orientation": "horizontal",
            "min": 0,
            "description_tooltip": null,
            "_model_module": "@jupyter-widgets/controls",
            "layout": "IPY_MODEL_d7a3e161c7a545b7b949ffa4ce4f7335"
          }
        },
        "ff31ea73b6ec4a718f7949371b92beb8": {
          "model_module": "@jupyter-widgets/controls",
          "model_name": "HTMLModel",
          "state": {
            "_view_name": "HTMLView",
            "style": "IPY_MODEL_2a8d30e9e6ee4a4faef6b58a78c7bfdf",
            "_dom_classes": [],
            "description": "",
            "_model_name": "HTMLModel",
            "placeholder": "​",
            "_view_module": "@jupyter-widgets/controls",
            "_model_module_version": "1.5.0",
            "value": " 10/10 [00:03&lt;00:00,  2.62it/s]",
            "_view_count": null,
            "_view_module_version": "1.5.0",
            "description_tooltip": null,
            "_model_module": "@jupyter-widgets/controls",
            "layout": "IPY_MODEL_70841979100b4a51b00aaa39574a60b9"
          }
        },
        "1bc4d680cc734ddab40b7fb19de420cf": {
          "model_module": "@jupyter-widgets/controls",
          "model_name": "ProgressStyleModel",
          "state": {
            "_view_name": "StyleView",
            "_model_name": "ProgressStyleModel",
            "description_width": "initial",
            "_view_module": "@jupyter-widgets/base",
            "_model_module_version": "1.5.0",
            "_view_count": null,
            "_view_module_version": "1.2.0",
            "bar_color": null,
            "_model_module": "@jupyter-widgets/controls"
          }
        },
        "d7a3e161c7a545b7b949ffa4ce4f7335": {
          "model_module": "@jupyter-widgets/base",
          "model_name": "LayoutModel",
          "state": {
            "_view_name": "LayoutView",
            "grid_template_rows": null,
            "right": null,
            "justify_content": null,
            "_view_module": "@jupyter-widgets/base",
            "overflow": null,
            "_model_module_version": "1.2.0",
            "_view_count": null,
            "flex_flow": null,
            "width": null,
            "min_width": null,
            "border": null,
            "align_items": null,
            "bottom": null,
            "_model_module": "@jupyter-widgets/base",
            "top": null,
            "grid_column": null,
            "overflow_y": null,
            "overflow_x": null,
            "grid_auto_flow": null,
            "grid_area": null,
            "grid_template_columns": null,
            "flex": null,
            "_model_name": "LayoutModel",
            "justify_items": null,
            "grid_row": null,
            "max_height": null,
            "align_content": null,
            "visibility": null,
            "align_self": null,
            "height": null,
            "min_height": null,
            "padding": null,
            "grid_auto_rows": null,
            "grid_gap": null,
            "max_width": null,
            "order": null,
            "_view_module_version": "1.2.0",
            "grid_template_areas": null,
            "object_position": null,
            "object_fit": null,
            "grid_auto_columns": null,
            "margin": null,
            "display": null,
            "left": null
          }
        },
        "2a8d30e9e6ee4a4faef6b58a78c7bfdf": {
          "model_module": "@jupyter-widgets/controls",
          "model_name": "DescriptionStyleModel",
          "state": {
            "_view_name": "StyleView",
            "_model_name": "DescriptionStyleModel",
            "description_width": "",
            "_view_module": "@jupyter-widgets/base",
            "_model_module_version": "1.5.0",
            "_view_count": null,
            "_view_module_version": "1.2.0",
            "_model_module": "@jupyter-widgets/controls"
          }
        },
        "70841979100b4a51b00aaa39574a60b9": {
          "model_module": "@jupyter-widgets/base",
          "model_name": "LayoutModel",
          "state": {
            "_view_name": "LayoutView",
            "grid_template_rows": null,
            "right": null,
            "justify_content": null,
            "_view_module": "@jupyter-widgets/base",
            "overflow": null,
            "_model_module_version": "1.2.0",
            "_view_count": null,
            "flex_flow": null,
            "width": null,
            "min_width": null,
            "border": null,
            "align_items": null,
            "bottom": null,
            "_model_module": "@jupyter-widgets/base",
            "top": null,
            "grid_column": null,
            "overflow_y": null,
            "overflow_x": null,
            "grid_auto_flow": null,
            "grid_area": null,
            "grid_template_columns": null,
            "flex": null,
            "_model_name": "LayoutModel",
            "justify_items": null,
            "grid_row": null,
            "max_height": null,
            "align_content": null,
            "visibility": null,
            "align_self": null,
            "height": null,
            "min_height": null,
            "padding": null,
            "grid_auto_rows": null,
            "grid_gap": null,
            "max_width": null,
            "order": null,
            "_view_module_version": "1.2.0",
            "grid_template_areas": null,
            "object_position": null,
            "object_fit": null,
            "grid_auto_columns": null,
            "margin": null,
            "display": null,
            "left": null
          }
        },
        "3036f64a1545440f96151d80b533398b": {
          "model_module": "@jupyter-widgets/controls",
          "model_name": "HBoxModel",
          "state": {
            "_view_name": "HBoxView",
            "_dom_classes": [],
            "_model_name": "HBoxModel",
            "_view_module": "@jupyter-widgets/controls",
            "_model_module_version": "1.5.0",
            "_view_count": null,
            "_view_module_version": "1.5.0",
            "box_style": "",
            "layout": "IPY_MODEL_9cac166cc66d4460858ee2a6760a1683",
            "_model_module": "@jupyter-widgets/controls",
            "children": [
              "IPY_MODEL_346de835e1bc454282afa1815ac4e91e",
              "IPY_MODEL_cbc21a61f57541509b9e54f6bb91e311"
            ]
          }
        },
        "9cac166cc66d4460858ee2a6760a1683": {
          "model_module": "@jupyter-widgets/base",
          "model_name": "LayoutModel",
          "state": {
            "_view_name": "LayoutView",
            "grid_template_rows": null,
            "right": null,
            "justify_content": null,
            "_view_module": "@jupyter-widgets/base",
            "overflow": null,
            "_model_module_version": "1.2.0",
            "_view_count": null,
            "flex_flow": null,
            "width": null,
            "min_width": null,
            "border": null,
            "align_items": null,
            "bottom": null,
            "_model_module": "@jupyter-widgets/base",
            "top": null,
            "grid_column": null,
            "overflow_y": null,
            "overflow_x": null,
            "grid_auto_flow": null,
            "grid_area": null,
            "grid_template_columns": null,
            "flex": null,
            "_model_name": "LayoutModel",
            "justify_items": null,
            "grid_row": null,
            "max_height": null,
            "align_content": null,
            "visibility": null,
            "align_self": null,
            "height": null,
            "min_height": null,
            "padding": null,
            "grid_auto_rows": null,
            "grid_gap": null,
            "max_width": null,
            "order": null,
            "_view_module_version": "1.2.0",
            "grid_template_areas": null,
            "object_position": null,
            "object_fit": null,
            "grid_auto_columns": null,
            "margin": null,
            "display": null,
            "left": null
          }
        },
        "346de835e1bc454282afa1815ac4e91e": {
          "model_module": "@jupyter-widgets/controls",
          "model_name": "FloatProgressModel",
          "state": {
            "_view_name": "ProgressView",
            "style": "IPY_MODEL_a6624d51ea2448a68a471fbafb98b87b",
            "_dom_classes": [],
            "description": "100%",
            "_model_name": "FloatProgressModel",
            "bar_style": "success",
            "max": 20,
            "_view_module": "@jupyter-widgets/controls",
            "_model_module_version": "1.5.0",
            "value": 20,
            "_view_count": null,
            "_view_module_version": "1.5.0",
            "orientation": "horizontal",
            "min": 0,
            "description_tooltip": null,
            "_model_module": "@jupyter-widgets/controls",
            "layout": "IPY_MODEL_b56b0c494eb64696ae50d679d0747aa7"
          }
        },
        "cbc21a61f57541509b9e54f6bb91e311": {
          "model_module": "@jupyter-widgets/controls",
          "model_name": "HTMLModel",
          "state": {
            "_view_name": "HTMLView",
            "style": "IPY_MODEL_6b0f437deabf47a7907542a2a5f76973",
            "_dom_classes": [],
            "description": "",
            "_model_name": "HTMLModel",
            "placeholder": "​",
            "_view_module": "@jupyter-widgets/controls",
            "_model_module_version": "1.5.0",
            "value": " 20/20 [09:25&lt;00:00, 28.28s/it]",
            "_view_count": null,
            "_view_module_version": "1.5.0",
            "description_tooltip": null,
            "_model_module": "@jupyter-widgets/controls",
            "layout": "IPY_MODEL_bd4a9a65744b4e3790b0f7cc396a9a62"
          }
        },
        "a6624d51ea2448a68a471fbafb98b87b": {
          "model_module": "@jupyter-widgets/controls",
          "model_name": "ProgressStyleModel",
          "state": {
            "_view_name": "StyleView",
            "_model_name": "ProgressStyleModel",
            "description_width": "initial",
            "_view_module": "@jupyter-widgets/base",
            "_model_module_version": "1.5.0",
            "_view_count": null,
            "_view_module_version": "1.2.0",
            "bar_color": null,
            "_model_module": "@jupyter-widgets/controls"
          }
        },
        "b56b0c494eb64696ae50d679d0747aa7": {
          "model_module": "@jupyter-widgets/base",
          "model_name": "LayoutModel",
          "state": {
            "_view_name": "LayoutView",
            "grid_template_rows": null,
            "right": null,
            "justify_content": null,
            "_view_module": "@jupyter-widgets/base",
            "overflow": null,
            "_model_module_version": "1.2.0",
            "_view_count": null,
            "flex_flow": null,
            "width": null,
            "min_width": null,
            "border": null,
            "align_items": null,
            "bottom": null,
            "_model_module": "@jupyter-widgets/base",
            "top": null,
            "grid_column": null,
            "overflow_y": null,
            "overflow_x": null,
            "grid_auto_flow": null,
            "grid_area": null,
            "grid_template_columns": null,
            "flex": null,
            "_model_name": "LayoutModel",
            "justify_items": null,
            "grid_row": null,
            "max_height": null,
            "align_content": null,
            "visibility": null,
            "align_self": null,
            "height": null,
            "min_height": null,
            "padding": null,
            "grid_auto_rows": null,
            "grid_gap": null,
            "max_width": null,
            "order": null,
            "_view_module_version": "1.2.0",
            "grid_template_areas": null,
            "object_position": null,
            "object_fit": null,
            "grid_auto_columns": null,
            "margin": null,
            "display": null,
            "left": null
          }
        },
        "6b0f437deabf47a7907542a2a5f76973": {
          "model_module": "@jupyter-widgets/controls",
          "model_name": "DescriptionStyleModel",
          "state": {
            "_view_name": "StyleView",
            "_model_name": "DescriptionStyleModel",
            "description_width": "",
            "_view_module": "@jupyter-widgets/base",
            "_model_module_version": "1.5.0",
            "_view_count": null,
            "_view_module_version": "1.2.0",
            "_model_module": "@jupyter-widgets/controls"
          }
        },
        "bd4a9a65744b4e3790b0f7cc396a9a62": {
          "model_module": "@jupyter-widgets/base",
          "model_name": "LayoutModel",
          "state": {
            "_view_name": "LayoutView",
            "grid_template_rows": null,
            "right": null,
            "justify_content": null,
            "_view_module": "@jupyter-widgets/base",
            "overflow": null,
            "_model_module_version": "1.2.0",
            "_view_count": null,
            "flex_flow": null,
            "width": null,
            "min_width": null,
            "border": null,
            "align_items": null,
            "bottom": null,
            "_model_module": "@jupyter-widgets/base",
            "top": null,
            "grid_column": null,
            "overflow_y": null,
            "overflow_x": null,
            "grid_auto_flow": null,
            "grid_area": null,
            "grid_template_columns": null,
            "flex": null,
            "_model_name": "LayoutModel",
            "justify_items": null,
            "grid_row": null,
            "max_height": null,
            "align_content": null,
            "visibility": null,
            "align_self": null,
            "height": null,
            "min_height": null,
            "padding": null,
            "grid_auto_rows": null,
            "grid_gap": null,
            "max_width": null,
            "order": null,
            "_view_module_version": "1.2.0",
            "grid_template_areas": null,
            "object_position": null,
            "object_fit": null,
            "grid_auto_columns": null,
            "margin": null,
            "display": null,
            "left": null
          }
        },
        "2164a62bf99c4e9cb8721f57f86fa760": {
          "model_module": "@jupyter-widgets/controls",
          "model_name": "HBoxModel",
          "state": {
            "_view_name": "HBoxView",
            "_dom_classes": [],
            "_model_name": "HBoxModel",
            "_view_module": "@jupyter-widgets/controls",
            "_model_module_version": "1.5.0",
            "_view_count": null,
            "_view_module_version": "1.5.0",
            "box_style": "",
            "layout": "IPY_MODEL_fcffa1cce6494623b7766bbfcecac8a5",
            "_model_module": "@jupyter-widgets/controls",
            "children": [
              "IPY_MODEL_cea7f5a97bcf4a7a9be1ff12bc95f7e9",
              "IPY_MODEL_e38515eb9e464f46b1d074a670df0b69"
            ]
          }
        },
        "fcffa1cce6494623b7766bbfcecac8a5": {
          "model_module": "@jupyter-widgets/base",
          "model_name": "LayoutModel",
          "state": {
            "_view_name": "LayoutView",
            "grid_template_rows": null,
            "right": null,
            "justify_content": null,
            "_view_module": "@jupyter-widgets/base",
            "overflow": null,
            "_model_module_version": "1.2.0",
            "_view_count": null,
            "flex_flow": null,
            "width": null,
            "min_width": null,
            "border": null,
            "align_items": null,
            "bottom": null,
            "_model_module": "@jupyter-widgets/base",
            "top": null,
            "grid_column": null,
            "overflow_y": null,
            "overflow_x": null,
            "grid_auto_flow": null,
            "grid_area": null,
            "grid_template_columns": null,
            "flex": null,
            "_model_name": "LayoutModel",
            "justify_items": null,
            "grid_row": null,
            "max_height": null,
            "align_content": null,
            "visibility": null,
            "align_self": null,
            "height": null,
            "min_height": null,
            "padding": null,
            "grid_auto_rows": null,
            "grid_gap": null,
            "max_width": null,
            "order": null,
            "_view_module_version": "1.2.0",
            "grid_template_areas": null,
            "object_position": null,
            "object_fit": null,
            "grid_auto_columns": null,
            "margin": null,
            "display": null,
            "left": null
          }
        },
        "cea7f5a97bcf4a7a9be1ff12bc95f7e9": {
          "model_module": "@jupyter-widgets/controls",
          "model_name": "FloatProgressModel",
          "state": {
            "_view_name": "ProgressView",
            "style": "IPY_MODEL_f27cac1603334727abc19340f88730c0",
            "_dom_classes": [],
            "description": "100%",
            "_model_name": "FloatProgressModel",
            "bar_style": "success",
            "max": 20,
            "_view_module": "@jupyter-widgets/controls",
            "_model_module_version": "1.5.0",
            "value": 20,
            "_view_count": null,
            "_view_module_version": "1.5.0",
            "orientation": "horizontal",
            "min": 0,
            "description_tooltip": null,
            "_model_module": "@jupyter-widgets/controls",
            "layout": "IPY_MODEL_d9265a8372cf4c9a805f9791b15db1cd"
          }
        },
        "e38515eb9e464f46b1d074a670df0b69": {
          "model_module": "@jupyter-widgets/controls",
          "model_name": "HTMLModel",
          "state": {
            "_view_name": "HTMLView",
            "style": "IPY_MODEL_0b07e18cfe104d839b52ce89c73d0fc2",
            "_dom_classes": [],
            "description": "",
            "_model_name": "HTMLModel",
            "placeholder": "​",
            "_view_module": "@jupyter-widgets/controls",
            "_model_module_version": "1.5.0",
            "value": " 20/20 [40:13&lt;00:00, 120.67s/it]",
            "_view_count": null,
            "_view_module_version": "1.5.0",
            "description_tooltip": null,
            "_model_module": "@jupyter-widgets/controls",
            "layout": "IPY_MODEL_c57ea90f651840179abda3676a530d08"
          }
        },
        "f27cac1603334727abc19340f88730c0": {
          "model_module": "@jupyter-widgets/controls",
          "model_name": "ProgressStyleModel",
          "state": {
            "_view_name": "StyleView",
            "_model_name": "ProgressStyleModel",
            "description_width": "initial",
            "_view_module": "@jupyter-widgets/base",
            "_model_module_version": "1.5.0",
            "_view_count": null,
            "_view_module_version": "1.2.0",
            "bar_color": null,
            "_model_module": "@jupyter-widgets/controls"
          }
        },
        "d9265a8372cf4c9a805f9791b15db1cd": {
          "model_module": "@jupyter-widgets/base",
          "model_name": "LayoutModel",
          "state": {
            "_view_name": "LayoutView",
            "grid_template_rows": null,
            "right": null,
            "justify_content": null,
            "_view_module": "@jupyter-widgets/base",
            "overflow": null,
            "_model_module_version": "1.2.0",
            "_view_count": null,
            "flex_flow": null,
            "width": null,
            "min_width": null,
            "border": null,
            "align_items": null,
            "bottom": null,
            "_model_module": "@jupyter-widgets/base",
            "top": null,
            "grid_column": null,
            "overflow_y": null,
            "overflow_x": null,
            "grid_auto_flow": null,
            "grid_area": null,
            "grid_template_columns": null,
            "flex": null,
            "_model_name": "LayoutModel",
            "justify_items": null,
            "grid_row": null,
            "max_height": null,
            "align_content": null,
            "visibility": null,
            "align_self": null,
            "height": null,
            "min_height": null,
            "padding": null,
            "grid_auto_rows": null,
            "grid_gap": null,
            "max_width": null,
            "order": null,
            "_view_module_version": "1.2.0",
            "grid_template_areas": null,
            "object_position": null,
            "object_fit": null,
            "grid_auto_columns": null,
            "margin": null,
            "display": null,
            "left": null
          }
        },
        "0b07e18cfe104d839b52ce89c73d0fc2": {
          "model_module": "@jupyter-widgets/controls",
          "model_name": "DescriptionStyleModel",
          "state": {
            "_view_name": "StyleView",
            "_model_name": "DescriptionStyleModel",
            "description_width": "",
            "_view_module": "@jupyter-widgets/base",
            "_model_module_version": "1.5.0",
            "_view_count": null,
            "_view_module_version": "1.2.0",
            "_model_module": "@jupyter-widgets/controls"
          }
        },
        "c57ea90f651840179abda3676a530d08": {
          "model_module": "@jupyter-widgets/base",
          "model_name": "LayoutModel",
          "state": {
            "_view_name": "LayoutView",
            "grid_template_rows": null,
            "right": null,
            "justify_content": null,
            "_view_module": "@jupyter-widgets/base",
            "overflow": null,
            "_model_module_version": "1.2.0",
            "_view_count": null,
            "flex_flow": null,
            "width": null,
            "min_width": null,
            "border": null,
            "align_items": null,
            "bottom": null,
            "_model_module": "@jupyter-widgets/base",
            "top": null,
            "grid_column": null,
            "overflow_y": null,
            "overflow_x": null,
            "grid_auto_flow": null,
            "grid_area": null,
            "grid_template_columns": null,
            "flex": null,
            "_model_name": "LayoutModel",
            "justify_items": null,
            "grid_row": null,
            "max_height": null,
            "align_content": null,
            "visibility": null,
            "align_self": null,
            "height": null,
            "min_height": null,
            "padding": null,
            "grid_auto_rows": null,
            "grid_gap": null,
            "max_width": null,
            "order": null,
            "_view_module_version": "1.2.0",
            "grid_template_areas": null,
            "object_position": null,
            "object_fit": null,
            "grid_auto_columns": null,
            "margin": null,
            "display": null,
            "left": null
          }
        }
      }
    }
  },
  "cells": [
    {
      "cell_type": "markdown",
      "metadata": {
        "id": "PnTLbS-F2zW8"
      },
      "source": [
        "# KNN, рак и спам\n",
        "__Суммарное количество баллов: 12__\n",
        "\n",
        "__Решение отправлять на `ml.course.practice@gmail.com`__\n",
        "\n",
        "__Тема письма: `[HSE][ML][MS][HW01] <ФИ>`, где вместо `<ФИ>` указаны фамилия и имя__\n",
        "\n",
        "В этом домашнем задании Вам предлагается при помощи классификации методом k ближайших соседей научиться отличать тип опухоли в организме, а так же определять сообщения со спамом"
      ]
    },
    {
      "cell_type": "code",
      "metadata": {
        "id": "pyhB6hRl2zXJ"
      },
      "source": [
        "import numpy as np\n",
        "import random\n",
        "import matplotlib.pyplot as plt\n",
        "import matplotlib\n",
        "import copy\n",
        "import pandas as pd\n",
        "from typing import NoReturn, Tuple, List\n",
        "\n",
        "from tqdm.notebook import tqdm"
      ],
      "execution_count": 4,
      "outputs": []
    },
    {
      "cell_type": "markdown",
      "metadata": {
        "id": "ZUeaWpDy2zXa"
      },
      "source": [
        "### Задание 1 (1 балл)\n",
        "Для начала работы нам необходимо научиться читать набор данных. Всего мы будем работать с двумя наборами данных.\n",
        "\n",
        "__Cancer.csv__ - выборка данных о пациентах с доброкачественными и злокачественными опухолями. Задача - научиться их отличать.\n",
        "\n",
        "__Spam.csv__ - набор данных большего размера. Он содержит некоторую статистику по сообщениям, а так же метку, является ли сообщение спамом. Задача - научиться автоматически отличать спам от обычных сообщений.\n",
        "\n",
        "Реализуйте методы `read_cancer_dataset` и `read_spam_dataset`. Каждый из них принимает на вход путь к набору данных и возвращает выборку `X` и соответствующие метки `y`. Набор данных должен быть упорядочен случайно, т.е. необходимо сделать shuffle."
      ]
    },
    {
      "cell_type": "code",
      "metadata": {
        "id": "P466AwOS2zXc"
      },
      "source": [
        "def min_max_scaler(X):\n",
        "    X = X.copy()\n",
        "    for col in X:\n",
        "        min_col = X[col].min()\n",
        "        max_col = X[col].max()\n",
        "        X[col] = (X[col] - min_col) / (max_col - min_col)\n",
        "\n",
        "    return X\n",
        "\n",
        "def read_cancer_dataset(path_to_csv: str) -> Tuple[np.array, np.array]:\n",
        "    \"\"\"\n",
        "     \n",
        "    Parameters\n",
        "    ----------\n",
        "    path_to_csv : str\n",
        "        Путь к cancer датасету.\n",
        "\n",
        "    Returns\n",
        "    -------\n",
        "    X : np.array\n",
        "        Матрица признаков опухолей.\n",
        "    y : np.array\n",
        "        Вектор бинарных меток, 1 соответствует доброкачественной опухоли (M), \n",
        "        0 --- злокачественной (B).\n",
        "\n",
        "    \n",
        "    \"\"\"\n",
        "    X = pd.read_csv(path_to_csv).sample(frac = 1)\n",
        "    y = X['label'].apply(lambda x: 1 if x == 'M' else 0)\n",
        "    X.drop(columns=['label'], inplace=True)\n",
        "\n",
        "    X = min_max_scaler(X)\n",
        "\n",
        "    return X.values, y.values\n",
        "\n",
        "def read_spam_dataset(path_to_csv: str) -> Tuple[np.array, np.array]:\n",
        "    \"\"\"\n",
        "     \n",
        "    Parameters\n",
        "    ----------\n",
        "    path_to_csv : str\n",
        "        Путь к spam датасету.\n",
        "\n",
        "    Returns\n",
        "    -------\n",
        "    X : np.array\n",
        "        Матрица признаков сообщений.\n",
        "    y : np.array\n",
        "        Вектор бинарных меток, \n",
        "        1 если сообщение содержит спам, 0 если не содержит.\n",
        "    \n",
        "    \"\"\"\n",
        "    X = pd.read_csv(path_to_csv).sample(frac = 1)\n",
        "    y = X['label']\n",
        "    X.drop(columns=['label'], inplace=True)\n",
        "\n",
        "    X = min_max_scaler(X)\n",
        "\n",
        "    return X.values, y.values"
      ],
      "execution_count": 5,
      "outputs": []
    },
    {
      "cell_type": "code",
      "metadata": {
        "id": "hmYqWZV92zXm",
        "colab": {
          "base_uri": "https://localhost:8080/"
        },
        "outputId": "a15f539c-d592-4b4e-cfc5-7640b22b36d5"
      },
      "source": [
        "read_cancer_dataset(\"cancer.csv\")"
      ],
      "execution_count": 6,
      "outputs": [
        {
          "output_type": "execute_result",
          "data": {
            "text/plain": [
              "(array([[0.11557575, 0.61447413, 0.10690346, ..., 0.        , 0.17938104,\n",
              "         0.09609078],\n",
              "        [0.35207535, 0.34020967, 0.35028678, ..., 0.53780069, 0.22728169,\n",
              "         0.25245966],\n",
              "        [0.37053339, 0.16875211, 0.35153065, ..., 0.2733677 , 0.15158683,\n",
              "         0.04184704],\n",
              "        ...,\n",
              "        [0.28439585, 0.15285763, 0.27841891, ..., 0.20103093, 0.17090479,\n",
              "         0.30080021],\n",
              "        [0.22618202, 0.28508624, 0.21567272, ..., 0.24604811, 0.08141139,\n",
              "         0.09254887],\n",
              "        [0.18074684, 0.        , 0.1726211 , ..., 0.15817869, 0.10348906,\n",
              "         0.14397219]]),\n",
              " array([0, 1, 0, 0, 1, 0, 1, 0, 0, 1, 0, 0, 1, 0, 0, 0, 0, 0, 0, 0, 0, 0,\n",
              "        0, 0, 0, 0, 1, 0, 0, 0, 0, 1, 0, 1, 0, 1, 1, 0, 0, 1, 1, 1, 0, 0,\n",
              "        0, 1, 1, 1, 1, 0, 0, 1, 0, 1, 1, 0, 1, 1, 0, 1, 0, 1, 1, 1, 0, 0,\n",
              "        0, 1, 0, 0, 1, 0, 1, 0, 0, 0, 0, 0, 0, 1, 0, 0, 1, 1, 0, 0, 0, 1,\n",
              "        0, 0, 0, 1, 1, 1, 1, 0, 1, 1, 1, 0, 1, 0, 0, 1, 1, 0, 1, 1, 1, 1,\n",
              "        1, 0, 1, 0, 0, 1, 0, 0, 0, 0, 1, 1, 0, 1, 0, 0, 0, 0, 1, 0, 0, 1,\n",
              "        1, 0, 0, 0, 0, 1, 1, 1, 0, 1, 0, 0, 0, 0, 0, 0, 0, 0, 1, 1, 0, 0,\n",
              "        0, 0, 0, 1, 0, 0, 0, 0, 0, 1, 0, 0, 0, 0, 0, 0, 0, 0, 0, 0, 0, 1,\n",
              "        0, 1, 1, 1, 0, 1, 1, 0, 1, 0, 0, 0, 1, 0, 0, 0, 1, 1, 1, 0, 0, 0,\n",
              "        1, 0, 1, 1, 0, 0, 0, 0, 1, 0, 1, 0, 0, 0, 0, 0, 1, 0, 0, 0, 1, 0,\n",
              "        1, 1, 1, 0, 0, 0, 0, 1, 1, 0, 1, 1, 0, 0, 0, 0, 1, 0, 0, 0, 0, 0,\n",
              "        0, 0, 1, 0, 0, 1, 0, 1, 1, 1, 0, 1, 0, 0, 0, 1, 0, 0, 1, 1, 0, 0,\n",
              "        0, 1, 0, 0, 1, 0, 1, 1, 0, 0, 0, 0, 0, 0, 0, 0, 0, 0, 0, 0, 0, 1,\n",
              "        0, 1, 0, 0, 0, 1, 0, 1, 0, 0, 1, 1, 0, 0, 1, 1, 0, 0, 0, 1, 1, 0,\n",
              "        0, 0, 0, 0, 0, 1, 0, 1, 0, 1, 1, 0, 0, 0, 0, 1, 0, 1, 1, 0, 0, 0,\n",
              "        0, 1, 0, 0, 0, 0, 0, 0, 1, 1, 0, 1, 0, 0, 0, 0, 0, 1, 1, 0, 1, 0,\n",
              "        0, 1, 0, 0, 0, 1, 0, 0, 0, 1, 1, 0, 0, 0, 1, 0, 0, 1, 1, 0, 0, 0,\n",
              "        1, 0, 1, 1, 0, 1, 1, 0, 1, 1, 0, 0, 1, 1, 0, 0, 0, 1, 0, 0, 0, 0,\n",
              "        0, 0, 0, 0, 0, 0, 1, 1, 0, 1, 0, 1, 0, 0, 0, 0, 0, 0, 0, 0, 1, 0,\n",
              "        0, 0, 1, 1, 0, 1, 1, 1, 0, 0, 1, 0, 1, 0, 0, 0, 1, 1, 0, 1, 0, 0,\n",
              "        1, 1, 1, 1, 1, 1, 0, 0, 1, 0, 0, 1, 0, 0, 1, 0, 0, 1, 1, 1, 0, 0,\n",
              "        1, 1, 0, 0, 0, 1, 1, 0, 1, 1, 0, 0, 1, 0, 1, 0, 0, 0, 0, 0, 0, 1,\n",
              "        1, 1, 1, 0, 0, 0, 0, 0, 1, 1, 1, 0, 0, 0, 0, 1, 0, 0, 1, 1, 1, 0,\n",
              "        0, 0, 1, 1, 0, 0, 0, 1, 1, 0, 0, 0, 0, 1, 1, 0, 0, 0, 0, 1, 0, 0,\n",
              "        0, 0, 0, 0, 1, 1, 1, 1, 0, 0, 0, 0, 0, 1, 1, 1, 0, 0, 0, 1, 1, 1,\n",
              "        0, 0, 1, 1, 0, 1, 0, 0, 1, 0, 0, 0, 0, 0, 0, 0, 0, 1, 0]))"
            ]
          },
          "metadata": {
            "tags": []
          },
          "execution_count": 6
        }
      ]
    },
    {
      "cell_type": "markdown",
      "metadata": {
        "id": "4P8UxbDI2zXy"
      },
      "source": [
        "### Задание 2  (1 балл)\n",
        "Начиная работать с данными, нам необходимо их предобработать и подготовить. В частности, нам необходимо разделить выборку на две: тренировочную и тестовую. Тренировочная выборка необходима для обучения алгоритма, а тестовая для проверки результатов обучения. Обычно используют коэффициент разделения `0.9`.\n",
        "\n",
        "Необходимо вернуть кортеж из `X_train`, `y_train`, `X_test` и `y_test`"
      ]
    },
    {
      "cell_type": "code",
      "metadata": {
        "id": "q6rrlak-2zX0"
      },
      "source": [
        "def train_test_split(X: np.array, y: np.array, ratio: float\n",
        "                     ) -> Tuple[np.array, np.array, np.array, np.array]:\n",
        "    \"\"\"\n",
        "\n",
        "    Parameters\n",
        "    ----------\n",
        "    X : np.array\n",
        "        Матрица признаков.\n",
        "    y : np.array\n",
        "        Вектор меток.\n",
        "    ratio : float\n",
        "        Коэффициент разделения.\n",
        "\n",
        "    Returns\n",
        "    -------\n",
        "    X_train : np.array\n",
        "        Матрица признаков для train выборки.\n",
        "    y_train : np.array\n",
        "        Вектор меток для train выборки.\n",
        "    X_test : np.array\n",
        "        Матрица признаков для test выборки.\n",
        "    y_test : np.array\n",
        "        Вектор меток для test выборки.\n",
        "\n",
        "    \"\"\"\n",
        "    mask = np.random.rand(len(X)) < ratio\n",
        "    X_train = X[mask]\n",
        "    y_train = y[mask]\n",
        "    X_test = X[~mask]\n",
        "    y_test = y[~mask]\n",
        "\n",
        "    return X_train, y_train, X_test, y_test"
      ],
      "execution_count": 7,
      "outputs": []
    },
    {
      "cell_type": "markdown",
      "metadata": {
        "id": "Wsa5_VCc2zX9"
      },
      "source": [
        "### Задание 3 (2 балла)\n",
        "Также прежде чем приступать к решению задачи, нам необходимо определиться с метриками, которые позволят нам оценить полученное решение. Для задач классификации мы можем использовать precision, recall и accuracy. Эти метрики считаются для каждого класса.\n",
        "\n",
        "Метод возвращает:\n",
        "\n",
        "* Вектор __Precision__, каждый из элементов которого равен значению метрики precision для соответствующего класса. \n",
        "\n",
        "* Вектор __Recall__, каждый из элементов которого равен значению метрики recall для соответствующего класса.\n",
        "\n",
        "* __Accuracy__ - число, которое равно отношению правильно классифицированных элементов выборке к размеру выборки."
      ]
    },
    {
      "cell_type": "code",
      "metadata": {
        "id": "pbmxcG9B2zX_"
      },
      "source": [
        "def get_precision_recall_accuracy(y_pred: np.array, y_true: np.array\n",
        "                                  ) -> Tuple[np.array, np.array, float]:\n",
        "    \"\"\"\n",
        "\n",
        "    Parameters\n",
        "    ----------\n",
        "    y_pred : np.array\n",
        "        Вектор классов, предсказанных моделью.\n",
        "    y_true : np.array\n",
        "        Вектор истинных классов.\n",
        "\n",
        "    Returns\n",
        "    -------\n",
        "    precision : np.array\n",
        "        Вектор с precision для каждого класса.\n",
        "    recall : np.array\n",
        "        Вектор с recall для каждого класса.\n",
        "    accuracy : float\n",
        "        Значение метрики accuracy (одно для всех классов).\n",
        "\n",
        "    \"\"\"\n",
        "    classes = np.unique(list(y_pred) + list(y_true))\n",
        "    precision = np.array([])\n",
        "    recall = np.array([])\n",
        "    accuracy = sum(y_pred == y_true) / len(y_pred)\n",
        "\n",
        "    for mark in classes:\n",
        "\n",
        "        tp, tn, fp, fn = 0, 0, 0, 0\n",
        "\n",
        "        for true, pred in zip(y_true, y_pred):\n",
        "            if true == mark:\n",
        "                if true == pred:\n",
        "                    tp += 1\n",
        "                else:\n",
        "                    fp += 1\n",
        "            else:\n",
        "                if true == pred:\n",
        "                    tn += 1\n",
        "                else:\n",
        "                    fn += 1\n",
        "\n",
        "        prec = 0 if tp + fp == 0 else tp / (tp + fp)\n",
        "        rec = 0 if tp + fn == 0 else tp / (tp + fn)\n",
        "        precision = np.append(precision, prec)\n",
        "        recall = np.append(recall, rec)\n",
        "\n",
        "    return precision, recall, accuracy"
      ],
      "execution_count": 8,
      "outputs": []
    },
    {
      "cell_type": "markdown",
      "metadata": {
        "id": "tllevtu_2zYH"
      },
      "source": [
        "Теперь, имея этот метод, мы можем построить кривые зависимости Precision, Recall и Accuracy от параметра `k`"
      ]
    },
    {
      "cell_type": "code",
      "metadata": {
        "id": "GDC326d92zYI"
      },
      "source": [
        "def plot_precision_recall(X_train, y_train, X_test, y_test, max_k=30):\n",
        "    ks = list(range(1, max_k + 1))\n",
        "    classes = len(np.unique(list(y_train) + list(y_test)))\n",
        "    precisions = [[] for _ in range(classes)]\n",
        "    recalls = [[] for _ in range(classes)]\n",
        "    accuracies = []\n",
        "    for k in tqdm(ks):\n",
        "        classifier = KNearest(k)\n",
        "        classifier.fit(X_train, y_train)\n",
        "        y_pred = classifier.predict(X_test)\n",
        "        precision, recall, acc = get_precision_recall_accuracy(y_pred, y_test)\n",
        "        for c in range(classes):\n",
        "            precisions[c].append(precision[c])\n",
        "            recalls[c].append(recall[c])\n",
        "        accuracies.append(acc)\n",
        "    def plot(x, ys, ylabel, legend=True):        \n",
        "        plt.figure(figsize = (12, 3))\n",
        "        plt.xlabel(\"K\")\n",
        "        plt.ylabel(ylabel)\n",
        "        plt.xlim(x[0], x[-1])\n",
        "        plt.ylim(np.min(ys)-0.01, np.max(ys)+0.01)\n",
        "        for cls, cls_y in enumerate(ys):\n",
        "            plt.plot(x, cls_y, label=\"Class \" + str(cls))\n",
        "        if legend:\n",
        "            plt.legend()\n",
        "        plt.tight_layout()\n",
        "        plt.show()\n",
        "    \n",
        "    plot(ks, recalls, \"Recall\")\n",
        "    plot(ks, precisions, \"Precision\")\n",
        "    plot(ks, [accuracies], \"Accuracy\", legend=False)"
      ],
      "execution_count": 9,
      "outputs": []
    },
    {
      "cell_type": "markdown",
      "metadata": {
        "id": "kMCly6gB2zYR"
      },
      "source": [
        "Также для оценки качества классификации построим __ROC-кривую__. Она отражает зависимость __True Positive Rate__ (TPR) от __False Positive Rate__ (FPR) для заранее фиксированного класса. Чем график выше побочной диагонали - тем лучше."
      ]
    },
    {
      "cell_type": "code",
      "metadata": {
        "id": "qxWejraO2zYS"
      },
      "source": [
        "def plot_roc_curve(X_train, y_train, X_test, y_test, max_k=30):\n",
        "    positive_samples = sum(1 for y in y_test if y == 0)\n",
        "    ks = list(range(1, max_k + 1))\n",
        "    curves_tpr = []\n",
        "    curves_fpr = []\n",
        "    colors = []\n",
        "    for k in tqdm(ks):\n",
        "        colors.append([k / ks[-1], 0, 1 - k / ks[-1]])\n",
        "        knearest = KNearest(k)\n",
        "        knearest.fit(X_train, y_train)\n",
        "        p_pred = [p[0] for p in knearest.predict_proba(X_test)]\n",
        "        tpr = []\n",
        "        fpr = []\n",
        "        for w in np.arange(-0.01, 1.02, 0.01):\n",
        "            y_pred = [(0 if p > w else 1) for p in p_pred]\n",
        "            tpr.append(sum(1 for yp, yt in zip(y_pred, y_test) if yp == 0 and yt == 0) / positive_samples)\n",
        "            fpr.append(sum(1 for yp, yt in zip(y_pred, y_test) if yp == 0 and yt != 0) / (len(y_test) - positive_samples))\n",
        "        curves_tpr.append(tpr)\n",
        "        curves_fpr.append(fpr)\n",
        "    plt.figure(figsize = (7, 7))\n",
        "    for tpr, fpr, c in zip(curves_tpr, curves_fpr, colors):\n",
        "        plt.plot(fpr, tpr, color=c)\n",
        "    plt.plot([0, 1], [0, 1], linestyle=\"--\")\n",
        "    plt.xlabel(\"False positive rate\")\n",
        "    plt.ylabel(\"True positive rate\")\n",
        "    plt.xlim(-0.01, 1.01)\n",
        "    plt.ylim(-0.01, 1.01)\n",
        "    plt.tight_layout()\n",
        "    plt.show()"
      ],
      "execution_count": 10,
      "outputs": []
    },
    {
      "cell_type": "markdown",
      "metadata": {
        "id": "4KmS6c-_2zYb"
      },
      "source": [
        "### Задание 4 (5 баллов)\n",
        "Теперь преступим к реализации классификатора. В этот раз будем использовать классификацию методом k средних. Поскольку основной решаемой задачий во время классификации этим методом является поиск ближайших соседей, а набор данных может быть достаточно большим, наивная реализация будет работать очень долго.\n",
        "\n",
        "Одним из способов решить эту проблему является __KD-дерево__. Оно позволяет значительно ускорить поиск ближайших соседей. Реализуйте построение KD-дерева и выполнение запросов на поиск k ближайших соседей.\n",
        "\n",
        "Метод `__init__` должен принимать на вход набор точек `X`, по которому будет строиться дерево, а так же размер листов `leaf_size` построенного дерева.\n",
        "\n",
        "Метод `query` должен принимать на вход набор точек `X`, для каждой из которых необходимо найти `k` ближайших соседей."
      ]
    },
    {
      "cell_type": "code",
      "metadata": {
        "id": "acuy3-IZ2zYc"
      },
      "source": [
        "class KDNode:\n",
        "    def __init__(self, X: np.array):\n",
        "        self.X = X\n",
        "        self.parent = -1\n",
        "        self.l_child = -1\n",
        "        self.r_child = -1\n",
        "        \n",
        "        self.feature = -1\n",
        "        self.median = -1\n",
        "\n",
        "        self.visited = False\n",
        "\n",
        "    \n",
        "    def check_mask(self, X):\n",
        "        return X.T[self.feature] < self.median\n",
        "\n",
        "class KDTree:\n",
        "\n",
        "    # Находит следующий признак для разбиения\n",
        "    def __find_next_feature(self, feature, node):\n",
        "        return self.__find_inner_next_feature(feature, node, 0, self.__max_n_calls)\n",
        "\n",
        "\n",
        "    def __find_inner_next_feature(self, feature, node, n_calls, max_n_calls):\n",
        "        feature = (feature + 1) % self.__X.shape[1]\n",
        "\n",
        "        if n_calls > max_n_calls:\n",
        "            return -1\n",
        "\n",
        "        col = self.__X[node.X].T[feature]\n",
        "        node.feature = feature\n",
        "        node.median = np.median(col)\n",
        "\n",
        "        first_part, second_part = self.__get_separation(node)\n",
        "\n",
        "        if abs(len(first_part) - len(second_part)) > 2:\n",
        "            return self.__find_inner_next_feature(feature, node, \n",
        "                                                  n_calls + 1, max_n_calls)\n",
        "        else:\n",
        "            return feature\n",
        "\n",
        "    # Разделяет датасет по выбранному признаку\n",
        "    def __get_separation(self, node):\n",
        "        mask = node.check_mask(self.__X[node.X])\n",
        "        return node.X[mask], node.X[~mask]\n",
        "\n",
        "\n",
        "    # Создает детей по разбиению по признаку\n",
        "    def __get_children(self, node):\n",
        "        left_part, right_part = self.__get_separation(node)\n",
        "\n",
        "        left_node = KDNode(left_part)\n",
        "        left_node.parent = node\n",
        "        node.l_child = left_node\n",
        "\n",
        "        right_node = KDNode(right_part)\n",
        "        right_node.parent = node\n",
        "        node.r_child = right_node\n",
        "\n",
        "        return left_node, right_node\n",
        "\n",
        "    \n",
        "    # Строит дерево для выбранного признака\n",
        "    def __build_tree(self, node, feature):\n",
        "        if len(node.X) > self.__leaf_size:\n",
        "            node.feature = self.__find_next_feature(feature, node)\n",
        "\n",
        "            if node.feature != -1:\n",
        "                left_node, right_node = self.__get_children(node)\n",
        "\n",
        "                self.__nodes.append(left_node)\n",
        "                self.__nodes.append(right_node)\n",
        "                \n",
        "                self.__build_tree(left_node, node.feature)\n",
        "                self.__build_tree(right_node, node.feature)\n",
        "          \n",
        "\n",
        "    def __init__(self, X: np.array, leaf_size: int = 40):\n",
        "        \"\"\"\n",
        "\n",
        "        Parameters\n",
        "        ----------\n",
        "        X : np.array\n",
        "            Набор точек, по которому строится дерево.\n",
        "        leaf_size : int\n",
        "            Минимальный размер листа\n",
        "            (то есть, пока возможно, пространство разбивается на области, \n",
        "            в которых не меньше leaf_size точек).\n",
        "\n",
        "        Returns\n",
        "        -------\n",
        "\n",
        "        \"\"\"\n",
        "        self.__X = X\n",
        "        self.__root = KDNode(np.array(range(X.shape[0])))\n",
        "        self.__leaf_size = leaf_size\n",
        "        self.__max_n_calls = self.__X.shape[1]\n",
        "        self.__nodes = []\n",
        "\n",
        "        feature = -1\n",
        "\n",
        "        self.__build_tree(self.__root, feature)\n",
        "\n",
        "    \n",
        "    def __merge(self, left, right, key=lambda x: x):\n",
        "        result = []\n",
        "        i, j = 0, 0\n",
        "        while i < len(left) and j < len(right) and len(result) < self.__k:\n",
        "            if key(left[i]) < key(right[j]):\n",
        "                result.append(left[i])\n",
        "                i += 1\n",
        "            else:\n",
        "                result.append(right[j])\n",
        "                j += 1\n",
        "        while i < len(left) and len(result) < self.__k:\n",
        "            result.append(left[i])\n",
        "            i += 1\n",
        "        while j < len(right) and len(result) < self.__k:\n",
        "            result.append(right[j])\n",
        "            j += 1\n",
        "\n",
        "        return np.array(result)\n",
        "\n",
        "    \n",
        "    # Спускается в лист, где находится полученная точка\n",
        "    def __get_start_node(self, row):\n",
        "        node = self.__root\n",
        "        while not node.l_child == -1 and not node.r_child == -1:\n",
        "            if node.check_mask(row):\n",
        "                node = node.l_child\n",
        "            else:\n",
        "                node = node.r_child\n",
        "\n",
        "        return node\n",
        "\n",
        "    \n",
        "    def query(self, X: np.array, k: int = 1) -> List[List]:\n",
        "        \"\"\"\n",
        "\n",
        "        Parameters\n",
        "        ----------\n",
        "        X : np.array\n",
        "            Набор точек, для которых нужно найти ближайших соседей.\n",
        "        k : int\n",
        "            Число ближайших соседей.\n",
        "\n",
        "        Returns\n",
        "        -------\n",
        "        list[list]\n",
        "            Список списков (длина каждог__all_not_visitedо списка k): \n",
        "            индексы k ближайших соседей для всех точек из X.\n",
        "\n",
        "        \"\"\"\n",
        "        all_k_nearest = []\n",
        "        self.__k = k\n",
        "\n",
        "        for row in X:\n",
        "            node = self.__get_start_node(row)\n",
        "            self.__all_not_visited()\n",
        "\n",
        "            k_nearest = self.__nearest_neighbours(row, node, np.array([]))\n",
        "\n",
        "            all_k_nearest.append(k_nearest)\n",
        "\n",
        "        return all_k_nearest\n",
        "\n",
        "    \n",
        "    def __all_not_visited(self):\n",
        "        for node in self.__nodes:\n",
        "            node.visited = False\n",
        "\n",
        "    \n",
        "    # Условие выбора заходить в лист или нет\n",
        "    def __distance_condition(self, row, node, k_nearest):\n",
        "\n",
        "        distance_to_k = np.linalg.norm(row - self.__X[k_nearest[-1]]) \n",
        "        distance_condition = distance_to_k >= self.__hyperplane_distance(row, node)\n",
        "        k_condition = len(k_nearest) < self.__k\n",
        "\n",
        "        return  distance_condition or k_condition\n",
        "\n",
        "\n",
        "    # Расстояние до гиперплоскости\n",
        "    def __hyperplane_distance(self, row, node):\n",
        "        is_left = node.parent.l_child == node\n",
        "\n",
        "        if row[node.parent.feature] < node.parent.median and is_left:\n",
        "            return 0\n",
        "        \n",
        "        if row[node.parent.feature] >= node.parent.median and not is_left:\n",
        "            return 0\n",
        "\n",
        "        return np.abs(row[node.parent.feature] - node.parent.median)\n",
        "\n",
        "\n",
        "    # Ищем ближайших соседей\n",
        "    def __nearest_neighbours(self, point, node, k_nearest):\n",
        "        if node.l_child != -1 and not node.l_child.visited:\n",
        "            if self.__distance_condition(point, node.l_child, k_nearest):\n",
        "                k_nearest = self.__nearest_neighbours(point, node.l_child, k_nearest)\n",
        "        \n",
        "        if node.r_child != -1 and not node.r_child.visited:\n",
        "            if self.__distance_condition(point, node.r_child, k_nearest):\n",
        "                k_nearest = self.__nearest_neighbours(point, node.r_child, k_nearest)\n",
        "\n",
        "        if node.l_child == -1 and node.r_child == -1:\n",
        "            array = sorted(node.X, key=lambda idx: \n",
        "                                  np.linalg.norm(point - self.__X[idx]))\n",
        "            \n",
        "            k_nearest = self.__merge(array, k_nearest, \n",
        "                                     key=lambda idx: np.linalg.norm(point - self.__X[idx]))\n",
        "\n",
        "        node.visited = True\n",
        "\n",
        "        if node.parent != -1:\n",
        "            return self.__nearest_neighbours(point, node.parent, k_nearest)\n",
        "        \n",
        "        return k_nearest"
      ],
      "execution_count": 291,
      "outputs": []
    },
    {
      "cell_type": "markdown",
      "metadata": {
        "id": "gvDjmihd2zYj"
      },
      "source": [
        "Поскольку данная струкутра данных является сложной, ее стоит протестировать отдельно. Для этого проведем тестирование с небольшим набором случайных точек. Если после выполнение вывод пуст, то KD-дерево скорее всего работает правильно."
      ]
    },
    {
      "cell_type": "code",
      "metadata": {
        "id": "7PfETZVA2zYk"
      },
      "source": [
        "def true_closest(X_train, X_test, k):\n",
        "    result = []\n",
        "    for x0 in X_test:\n",
        "        bests = list(sorted([(i, np.linalg.norm(x - x0)) for i, x in enumerate(X_train)], key=lambda x: x[1]))\n",
        "        bests = [i for i, d in bests]\n",
        "        result.append(bests[:min(k, len(bests))])\n",
        "    return result    \n",
        "\n",
        "X_train = np.random.randn(100, 3)\n",
        "X_test = np.random.randn(10, 3)\n",
        "\n",
        "tree = KDTree(X_train, leaf_size=4)\n",
        "predicted = tree.query(X_test, k=4)\n",
        "true = true_closest(X_train, X_test, k=4)\n",
        "\n",
        "if np.sum(np.abs(np.array(np.array(predicted).shape) - np.array(np.array(true).shape))) != 0:\n",
        "    print(\"Wrong shape\")\n",
        "else:\n",
        "    errors = sum([1 for row1, row2 in zip(predicted, true) for i1, i2 in zip(row1, row2) if i1 != i2])\n",
        "    if errors > 0:\n",
        "        print(\"Encounted\", errors, \"errors\")"
      ],
      "execution_count": 292,
      "outputs": []
    },
    {
      "cell_type": "markdown",
      "metadata": {
        "id": "ZuX-qKEB2zYq"
      },
      "source": [
        "### Задание 5  (3 балла)\n",
        "Осталось реализовать сам классификатор. Реализуйте его, используя KD-дерево.\n",
        "\n",
        "Метод `__init__` принимает на вход количество соседей, по которым предсказывается класс, и размер листьев KD-дерева.\n",
        "\n",
        "Метод `fit` должен по набору данных и меток строить классификатор. \n",
        "\n",
        "Метод `predict_proba` должен предсказывать веротности классов для заданного набора данных основываясь на классах соседей"
      ]
    },
    {
      "cell_type": "code",
      "metadata": {
        "id": "Hisgukw32zYr"
      },
      "source": [
        "class KNearest:\n",
        "    def __init__(self, n_neighbors: int = 5, leaf_size: int = 30):\n",
        "        \"\"\"\n",
        "\n",
        "        Parameters\n",
        "        ----------\n",
        "        n_neighbors : int\n",
        "            Число соседей, по которым предсказывается класс.\n",
        "        leaf_size : int\n",
        "            Минимальный размер листа в KD-дереве.\n",
        "\n",
        "        \"\"\"        \n",
        "        self.__n_neighbors = n_neighbors\n",
        "        self.__leaf_size = leaf_size\n",
        "    \n",
        "    def fit(self, X: np.array, y: np.array) -> NoReturn:\n",
        "        \"\"\"\n",
        "\n",
        "        Parameters\n",
        "        ----------\n",
        "        X : np.array\n",
        "            Набор точек, по которым строится классификатор.\n",
        "        y : np.array\n",
        "            Метки точек, по которым строится классификатор.\n",
        "\n",
        "        \"\"\"        \n",
        "        self.__tree = KDTree(X, leaf_size=self.__leaf_size)\n",
        "        self.__target = y\n",
        "        self.__n_classes = len(np.unique(y))\n",
        "        \n",
        "    def predict_proba(self, X: np.array) -> List[np.array]:\n",
        "        \"\"\"\n",
        "\n",
        "        Parameters\n",
        "        ----------\n",
        "        X : np.array\n",
        "            Набор точек, для которых нужно определить класс.\n",
        "        \n",
        "        Returns\n",
        "        -------\n",
        "        list[np.array]\n",
        "            Список np.array (длина каждого np.array равна числу классов):\n",
        "            вероятности классов для каждой точки X.\n",
        "            \n",
        "\n",
        "        \"\"\"\n",
        "\n",
        "        predicted = self.__tree.query(X, k=self.__n_neighbors)\n",
        "        predicted_classes = []\n",
        "\n",
        "        for i, row in enumerate(predicted):\n",
        "            predicted_classes.append(self.__target[predicted[i]])\n",
        "        \n",
        "\n",
        "        proba = np.zeros((X.shape[0], self.__n_classes))\n",
        "        for i in range(self.__n_classes):\n",
        "            for j, row in enumerate(predicted_classes):\n",
        "                proba[j][i] = sum([int(x == i) for x in row]) / len(row)\n",
        "\n",
        "        return proba\n",
        "\n",
        "\n",
        "\n",
        "        \n",
        "    def predict(self, X: np.array) -> np.array:\n",
        "        \"\"\"\n",
        "\n",
        "        Parameters\n",
        "        ----------\n",
        "        X : np.array\n",
        "            Набор точек, для которых нужно определить класс.\n",
        "        \n",
        "        Returns        print(X)\n",
        "        -------\n",
        "        np.array\n",
        "            Вектор предсказанных классов.\n",
        "            \n",
        "\n",
        "        \"\"\"\n",
        "        return np.argmax(self.predict_proba(X), axis=1)\n"
      ],
      "execution_count": 293,
      "outputs": []
    },
    {
      "cell_type": "markdown",
      "metadata": {
        "id": "UhWIX7wT2zYy"
      },
      "source": [
        "Наконец, протестируем наш классификатор на различных наборах данных. Реализация KNearest должна отработать за разумное время."
      ]
    },
    {
      "cell_type": "code",
      "metadata": {
        "scrolled": false,
        "id": "5Jr2cJEP2zYz",
        "colab": {
          "base_uri": "https://localhost:8080/",
          "height": 1000,
          "referenced_widgets": [
            "fdf70374935d4df29a14490a4c436667",
            "35ffec19511f4562811116929947c447",
            "961df85d2cfe4dbdb46ccd90fc317b7d",
            "e2a5a8615dd441baa042cf34fafc6933",
            "05f8d245c9f44fabbcc0bfe59c97eaa8",
            "a62adab7a97c4384a57b73d48d51bce3",
            "803ea13c9958481c8cb17289785d4997",
            "39829ac856054a6ba1d8df677ff6560f",
            "1635e6b83909495a8093dc99df212e7a",
            "629f052717ad429cbea6d31a6c02aebb",
            "f734524f55cf4c16917fb53c4cae475e",
            "ff31ea73b6ec4a718f7949371b92beb8",
            "1bc4d680cc734ddab40b7fb19de420cf",
            "d7a3e161c7a545b7b949ffa4ce4f7335",
            "2a8d30e9e6ee4a4faef6b58a78c7bfdf",
            "70841979100b4a51b00aaa39574a60b9"
          ]
        },
        "outputId": "ea7546b9-06cb-4a2d-cf12-dab1d7111652"
      },
      "source": [
        "%%time\n",
        "\n",
        "X, y = read_cancer_dataset(\"cancer.csv\")\n",
        "X_train, y_train, X_test, y_test = train_test_split(X, y, 0.9)\n",
        "plot_precision_recall(X_train, y_train, X_test, y_test)\n",
        "plot_roc_curve(X_train, y_train, X_test, y_test, max_k=10)"
      ],
      "execution_count": 294,
      "outputs": [
        {
          "output_type": "display_data",
          "data": {
            "application/vnd.jupyter.widget-view+json": {
              "model_id": "fdf70374935d4df29a14490a4c436667",
              "version_minor": 0,
              "version_major": 2
            },
            "text/plain": [
              "HBox(children=(FloatProgress(value=0.0, max=30.0), HTML(value='')))"
            ]
          },
          "metadata": {
            "tags": []
          }
        },
        {
          "output_type": "stream",
          "text": [
            "\n"
          ],
          "name": "stdout"
        },
        {
          "output_type": "display_data",
          "data": {
            "image/png": "[encoded data removed]",
            "text/plain": [
              "<Figure size 864x216 with 1 Axes>"
            ]
          },
          "metadata": {
            "tags": [],
            "needs_background": "light"
          }
        },
        {
          "output_type": "display_data",
          "data": {
            "image/png": "[encoded data removed]",
            "text/plain": [
              "<Figure size 864x216 with 1 Axes>"
            ]
          },
          "metadata": {
            "tags": [],
            "needs_background": "light"
          }
        },
        {
          "output_type": "display_data",
          "data": {
            "image/png": "[encoded data removed]",
            "text/plain": [
              "<Figure size 864x216 with 1 Axes>"
            ]
          },
          "metadata": {
            "tags": [],
            "needs_background": "light"
          }
        },
        {
          "output_type": "display_data",
          "data": {
            "application/vnd.jupyter.widget-view+json": {
              "model_id": "1635e6b83909495a8093dc99df212e7a",
              "version_minor": 0,
              "version_major": 2
            },
            "text/plain": [
              "HBox(children=(FloatProgress(value=0.0, max=10.0), HTML(value='')))"
            ]
          },
          "metadata": {
            "tags": []
          }
        },
        {
          "output_type": "stream",
          "text": [
            "\n"
          ],
          "name": "stdout"
        },
        {
          "output_type": "display_data",
          "data": {
            "image/png": "[encoded data removed]",
            "text/plain": [
              "<Figure size 504x504 with 1 Axes>"
            ]
          },
          "metadata": {
            "tags": [],
            "needs_background": "light"
          }
        },
        {
          "output_type": "stream",
          "text": [
            "CPU times: user 26.9 s, sys: 612 ms, total: 27.5 s\n",
            "Wall time: 27.5 s\n"
          ],
          "name": "stdout"
        }
      ]
    },
    {
      "cell_type": "code",
      "metadata": {
        "scrolled": false,
        "id": "e_XcVHGj2zY5",
        "colab": {
          "base_uri": "https://localhost:8080/",
          "height": 1000,
          "referenced_widgets": [
            "3036f64a1545440f96151d80b533398b",
            "9cac166cc66d4460858ee2a6760a1683",
            "346de835e1bc454282afa1815ac4e91e",
            "cbc21a61f57541509b9e54f6bb91e311",
            "a6624d51ea2448a68a471fbafb98b87b",
            "b56b0c494eb64696ae50d679d0747aa7",
            "6b0f437deabf47a7907542a2a5f76973",
            "bd4a9a65744b4e3790b0f7cc396a9a62",
            "2164a62bf99c4e9cb8721f57f86fa760",
            "fcffa1cce6494623b7766bbfcecac8a5",
            "cea7f5a97bcf4a7a9be1ff12bc95f7e9",
            "e38515eb9e464f46b1d074a670df0b69",
            "f27cac1603334727abc19340f88730c0",
            "d9265a8372cf4c9a805f9791b15db1cd",
            "0b07e18cfe104d839b52ce89c73d0fc2",
            "c57ea90f651840179abda3676a530d08"
          ]
        },
        "outputId": "a4b87ae2-e256-4e1e-c216-ddf4334ac23b"
      },
      "source": [
        "  %%time\n",
        "\n",
        "X, y = read_spam_dataset(\"spam.csv\")\n",
        "X_train, y_train, X_test, y_test = train_test_split(X, y, 0.9)\n",
        "plot_precision_recall(X_train, y_train, X_test, y_test, max_k=20)\n",
        "plot_roc_curve(X_train, y_train, X_test, y_test, max_k=20)"
      ],
      "execution_count": 214,
      "outputs": [
        {
          "output_type": "display_data",
          "data": {
            "application/vnd.jupyter.widget-view+json": {
              "model_id": "3036f64a1545440f96151d80b533398b",
              "version_minor": 0,
              "version_major": 2
            },
            "text/plain": [
              "HBox(children=(FloatProgress(value=0.0, max=20.0), HTML(value='')))"
            ]
          },
          "metadata": {
            "tags": []
          }
        },
        {
          "output_type": "stream",
          "text": [
            "\n"
          ],
          "name": "stdout"
        },
        {
          "output_type": "display_data",
          "data": {
            "image/png": "[encoded data removed]",
            "text/plain": [
              "<Figure size 864x216 with 1 Axes>"
            ]
          },
          "metadata": {
            "tags": [],
            "needs_background": "light"
          }
        },
        {
          "output_type": "display_data",
          "data": {
            "image/png": "[encoded data removed]",
            "text/plain": [
              "<Figure size 864x216 with 1 Axes>"
            ]
          },
          "metadata": {
            "tags": [],
            "needs_background": "light"
          }
        },
        {
          "output_type": "display_data",
          "data": {
            "image/png": "[encoded data removed]",
            "text/plain": [
              "<Figure size 864x216 with 1 Axes>"
            ]
          },
          "metadata": {
            "tags": [],
            "needs_background": "light"
          }
        },
        {
          "output_type": "display_data",
          "data": {
            "application/vnd.jupyter.widget-view+json": {
              "model_id": "2164a62bf99c4e9cb8721f57f86fa760",
              "version_minor": 0,
              "version_major": 2
            },
            "text/plain": [
              "HBox(children=(FloatProgress(value=0.0, max=20.0), HTML(value='')))"
            ]
          },
          "metadata": {
            "tags": []
          }
        },
        {
          "output_type": "stream",
          "text": [
            "\n"
          ],
          "name": "stdout"
        },
        {
          "output_type": "display_data",
          "data": {
            "image/png": "[encoded data removed]",
            "text/plain": [
              "<Figure size 504x504 with 1 Axes>"
            ]
          },
          "metadata": {
            "tags": [],
            "needs_background": "light"
          }
        },
        {
          "output_type": "stream",
          "text": [
            "CPU times: user 18min 27s, sys: 5.69 s, total: 18min 32s\n",
            "Wall time: 18min 30s\n"
          ],
          "name": "stdout"
        }
      ]
    },
    {
      "cell_type": "code",
      "metadata": {
        "id": "KJxdXVfRGcBR"
      },
      "source": [
        ""
      ],
      "execution_count": null,
      "outputs": []
    }
  ]
}