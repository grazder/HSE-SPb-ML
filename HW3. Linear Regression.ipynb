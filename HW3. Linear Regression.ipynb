{
  "nbformat": 4,
  "nbformat_minor": 0,
  "metadata": {
    "kernelspec": {
      "display_name": "Python 3",
      "language": "python",
      "name": "python3"
    },
    "language_info": {
      "codemirror_mode": {
        "name": "ipython",
        "version": 3
      },
      "file_extension": ".py",
      "mimetype": "text/x-python",
      "name": "python",
      "nbconvert_exporter": "python",
      "pygments_lexer": "ipython3",
      "version": "3.7.3"
    },
    "colab": {
      "name": "hw3_task.ipynb",
      "provenance": [],
      "collapsed_sections": [],
      "toc_visible": true
    }
  },
  "cells": [
    {
      "cell_type": "markdown",
      "metadata": {
        "id": "afIgLBWb689l"
      },
      "source": [
        "# Линейная регрессия\n",
        "__Суммарное количество баллов: 10__\n",
        "\n",
        "__Решение отправлять на `ml.course.practice@gmail.com`__\n",
        "\n",
        "__Тема письма: `[ML][MS][HW03] <ФИ>`, где вместо `<ФИ>` указаны фамилия и имя__"
      ]
    },
    {
      "cell_type": "code",
      "metadata": {
        "id": "bYKrc1lO689l"
      },
      "source": [
        "from sklearn.datasets import make_blobs, make_moons\n",
        "from sklearn.model_selection import train_test_split\n",
        "import numpy as np\n",
        "import random\n",
        "import matplotlib.pyplot as plt\n",
        "import matplotlib\n",
        "import copy"
      ],
      "execution_count": 1,
      "outputs": []
    },
    {
      "cell_type": "code",
      "metadata": {
        "id": "VOGx85I5689m"
      },
      "source": [
        "def read_data(path=\"boston.csv\"):\n",
        "    dataframe = np.genfromtxt(path, delimiter=\",\", skip_header=15)\n",
        "    np.random.seed(42)\n",
        "    np.random.shuffle(dataframe)\n",
        "    X = dataframe[:, :-1]\n",
        "    y = dataframe[:, -1]\n",
        "\n",
        "    X = X.T\n",
        "    for i in range(X.shape[0]):\n",
        "        col_min, col_max = X[i].min(), X[i].max()\n",
        "        X[i] = (X[i] - col_min) / (col_max - col_min)\n",
        "\n",
        "    return X.T, y"
      ],
      "execution_count": 2,
      "outputs": []
    },
    {
      "cell_type": "code",
      "metadata": {
        "id": "tte75xx7689m"
      },
      "source": [
        "def generate_synthetic(size:int, dim=6, noise=0.1):\n",
        "    X = np.random.randn(size, dim)\n",
        "    w = np.random.randn(dim + 1)\n",
        "    noise = noise * np.random.randn(size)\n",
        "    y = X.dot(w[1:]) + w[0] + noise\n",
        "    return X, y"
      ],
      "execution_count": 3,
      "outputs": []
    },
    {
      "cell_type": "markdown",
      "metadata": {
        "id": "Aab8Oyui689m"
      },
      "source": [
        "### Задание 1 (1 балл)\n",
        "Для начала нужно понять, какую метрику для ошибки будем использовать. В нашем случае нам подойдет стандартная метрика MSE. Также чтобы оценить качество модели нам понадобится метрика $R^2$. Реализуйте обе эти метрики."
      ]
    },
    {
      "cell_type": "code",
      "metadata": {
        "id": "RDUbABpp689m"
      },
      "source": [
        "def mse(y_true:np.ndarray, y_predicted:np.ndarray):\n",
        "    return np.linalg.norm(y_predicted - y_true) / len(y_true)\n",
        "\n",
        "def r2(y_true:np.ndarray, y_predicted:np.ndarray):\n",
        "    y_mean = y_true.mean()\n",
        "    return 1 - np.linalg.norm(y_predicted - y_true) / np.linalg.norm(y_predicted - y_mean)"
      ],
      "execution_count": 4,
      "outputs": []
    },
    {
      "cell_type": "markdown",
      "metadata": {
        "id": "Qqlg3KeW689m"
      },
      "source": [
        "### Задание 2 (3 балла)\n",
        "Теперь реализуем линейную регрессию при помощи явного решения задачи минимизации. \n",
        "\n",
        "#### Методы\n",
        "`fit(X, y)` - решает задачу минимизации $\\arg\\min_{w, b}\\sum ((w\\cdot x + b) - y)^2$. \n",
        "\n",
        "`predict(X)` - строит предсказание `y` для объектов из `X`."
      ]
    },
    {
      "cell_type": "code",
      "metadata": {
        "id": "zTGLaghB689m"
      },
      "source": [
        "class NormalLR:\n",
        "    def __init__(self):\n",
        "        pass\n",
        "\n",
        "\n",
        "    def __extend(self, X):\n",
        "        intercept = np.ones((X.shape[0], 1))\n",
        "        return np.concatenate((intercept, X), axis=1)\n",
        "\n",
        "    \n",
        "    def fit(self, X:np.ndarray, y:np.ndarray):\n",
        "        X = self.__extend(X)\n",
        "\n",
        "        self.__w = np.linalg.inv(X.T @ X) @ X.T @ y\n",
        "    \n",
        "\n",
        "    def predict(self, X:np.ndarray) -> np.ndarray:\n",
        "        X = self.__extend(X)\n",
        "\n",
        "        return X @ self.__w"
      ],
      "execution_count": 5,
      "outputs": []
    },
    {
      "cell_type": "code",
      "metadata": {
        "id": "hgS8c_sM689m"
      },
      "source": [
        "X, y = generate_synthetic(1024)\n",
        "X_train, X_test, y_train, y_test = train_test_split(X, y, train_size=0.8)"
      ],
      "execution_count": 6,
      "outputs": []
    },
    {
      "cell_type": "code",
      "metadata": {
        "id": "9DjhMRug689m",
        "colab": {
          "base_uri": "https://localhost:8080/"
        },
        "outputId": "94816647-518f-48d2-be0c-ce13d322a191"
      },
      "source": [
        "regr = NormalLR()\n",
        "regr.fit(X_train, y_train)\n",
        "y_pred = regr.predict(X_test)\n",
        "print(f\"MSE: {mse(y_test, y_pred)}, R2: {r2(y_test, y_pred)}\")"
      ],
      "execution_count": 7,
      "outputs": [
        {
          "output_type": "stream",
          "text": [
            "MSE: 0.006542067269602292, R2: 0.968513457440295\n"
          ],
          "name": "stdout"
        }
      ]
    },
    {
      "cell_type": "markdown",
      "metadata": {
        "id": "rPaByJZN689m"
      },
      "source": [
        "### Задание 3 (2 балла)\n",
        "Теперь реализуем линейную регрессию с использованием градиентного спуска с larning rate `alpha` в течении `iterations` итераций. В задании необходимо использовать регуляризацию Лассо с коэффициентом `l`.\n",
        "\n",
        "#### Методы\n",
        "`fit(X, y)` - приближает решение задачи минимизации $\\arg\\min_{w, b}\\sum ((w\\cdot x + b) - y)^2$ при помощи градиентного спуска. \n",
        "\n",
        "\n",
        "`predict(X)` - строит предсказание `y` для объектов из `X`."
      ]
    },
    {
      "cell_type": "code",
      "metadata": {
        "id": "oBmZJrhL689m"
      },
      "source": [
        "class GradientLR:\n",
        "    def __init__(self, alpha:float, iterations=10000, l=0.):\n",
        "        self.__lr = alpha\n",
        "        self.__n_iter = iterations\n",
        "        self.__l = l\n",
        "\n",
        "\n",
        "    def __extend(self, X):\n",
        "        intercept = np.ones((X.shape[0], 1))\n",
        "        return np.concatenate((intercept, X), axis=1)\n",
        "\n",
        "    \n",
        "    def __init_weights(self, X):\n",
        "        np.random.seed(42)\n",
        "        self.W = np.random.normal(0, 0.01, (X.shape[1],))\n",
        "\n",
        "\n",
        "    def fit(self, X:np.ndarray, y:np.ndarray):\n",
        "        X = self.__extend(X)\n",
        "        self.__init_weights(X)\n",
        "        priv_grad = 0\n",
        "\n",
        "        for i in range(self.__n_iter):\n",
        "            y_pred = X @ self.W\n",
        "            grad_W = (-(y - y_pred) @ X + self.__l * np.sign(self.W)) / len(y)\n",
        "\n",
        "            if np.linalg.norm(priv_grad - grad_W) < 1e-08:\n",
        "                break\n",
        "\n",
        "            self.W -= self.__lr * grad_W\n",
        "            \n",
        "            priv_grad = grad_W\n",
        "        \n",
        "\n",
        "    def predict(self, X:np.ndarray):\n",
        "        X = self.__extend(X)\n",
        "        y_pred = X @ self.W\n",
        "\n",
        "        return y_pred"
      ],
      "execution_count": 8,
      "outputs": []
    },
    {
      "cell_type": "code",
      "metadata": {
        "id": "OPG6AR_b689m"
      },
      "source": [
        "def build_plot(X_train, y_train, X_test, y_test):\n",
        "    xs = np.arange(0.0, 0.002, 0.00002)\n",
        "    errors = []\n",
        "    for x in xs:\n",
        "        regr = GradientLR(0.1, iterations=10000, l=x)\n",
        "        regr.fit(X_train, y_train)\n",
        "        errors.append(mse(y_test, regr.predict(X_test)))\n",
        "    plt.figure(figsize=(9, 4))\n",
        "    plt.xlim(xs[0], xs[-1])\n",
        "    plt.grid()\n",
        "    plt.plot(xs, errors)\n",
        "    plt.show()"
      ],
      "execution_count": 9,
      "outputs": []
    },
    {
      "cell_type": "code",
      "metadata": {
        "id": "6D5_9sSc689m"
      },
      "source": [
        "X, y = generate_synthetic(1024)\n",
        "X, X_val, y, y_val = train_test_split(X, y, train_size=0.9, shuffle=True)\n",
        "X_train, X_test, y_train, y_test = train_test_split(X, y, train_size=0.8, shuffle=True)"
      ],
      "execution_count": 23,
      "outputs": []
    },
    {
      "cell_type": "code",
      "metadata": {
        "id": "OzRIkE7P689m",
        "colab": {
          "base_uri": "https://localhost:8080/",
          "height": 276
        },
        "outputId": "7c44276d-944f-4e5a-b82a-1eb9395dffe5"
      },
      "source": [
        "build_plot(X_train, y_train, X_val, y_val)"
      ],
      "execution_count": 24,
      "outputs": [
        {
          "output_type": "display_data",
          "data": {
            "image/png": "[encoded data removed]",
            "text/plain": [
              "<Figure size 648x288 with 1 Axes>"
            ]
          },
          "metadata": {
            "tags": [],
            "needs_background": "light"
          }
        }
      ]
    },
    {
      "cell_type": "code",
      "metadata": {
        "id": "e3EYauPK689m",
        "colab": {
          "base_uri": "https://localhost:8080/"
        },
        "outputId": "9b36fcab-56ea-4522-fd2f-be76c6e181ae"
      },
      "source": [
        "regr = GradientLR(0.1, iterations=10000)\n",
        "regr.fit(X_train, y_train)\n",
        "y_pred = regr.predict(X_test)\n",
        "print(f\"MSE: {mse(y_test, y_pred)}, R2: {r2(y_test, y_pred)}\")"
      ],
      "execution_count": 12,
      "outputs": [
        {
          "output_type": "stream",
          "text": [
            "MSE: 0.006972819010951972, R2: 0.9647055354758722\n"
          ],
          "name": "stdout"
        }
      ]
    },
    {
      "cell_type": "markdown",
      "metadata": {
        "id": "S_WtOSFG689m"
      },
      "source": [
        "### Задание 4 (2 балла)\n",
        "Протесируйте оба метода на данных `boston.csv`, для градиентного спуска постройте график зависимости ошибки от коэффициента регуляризации. "
      ]
    },
    {
      "cell_type": "code",
      "metadata": {
        "id": "_einEvle689m"
      },
      "source": [
        "X, y = read_data()\n",
        "X_train, X_val, y_train, y_val = train_test_split(X, y, train_size=0.8, shuffle=False)"
      ],
      "execution_count": 13,
      "outputs": []
    },
    {
      "cell_type": "code",
      "metadata": {
        "id": "jBswiVjC689m",
        "colab": {
          "base_uri": "https://localhost:8080/"
        },
        "outputId": "50ac824f-96d2-478c-8608-30dec6321e24"
      },
      "source": [
        "regr = NormalLR()\n",
        "regr.fit(X_train, y_train)\n",
        "y_pred = regr.predict(X_val)\n",
        "print(f\"MSE: {mse(y_val, y_pred)}, R2: {r2(y_val, y_pred)}\")"
      ],
      "execution_count": 14,
      "outputs": [
        {
          "output_type": "stream",
          "text": [
            "MSE: 467.2228242061629, R2: 0.35956209036426445\n"
          ],
          "name": "stdout"
        }
      ]
    },
    {
      "cell_type": "code",
      "metadata": {
        "id": "dLUWno_N689m",
        "colab": {
          "base_uri": "https://localhost:8080/",
          "height": 276
        },
        "outputId": "3adf4d9f-d752-4bfd-b14b-eeaaf7322d4d"
      },
      "source": [
        "build_plot(X_train, y_train, X_val, y_val)"
      ],
      "execution_count": 15,
      "outputs": [
        {
          "output_type": "display_data",
          "data": {
            "image/png": "[encoded data removed]",
            "text/plain": [
              "<Figure size 648x288 with 1 Axes>"
            ]
          },
          "metadata": {
            "tags": [],
            "needs_background": "light"
          }
        }
      ]
    },
    {
      "cell_type": "code",
      "metadata": {
        "id": "pqHBX4Gn689m",
        "colab": {
          "base_uri": "https://localhost:8080/"
        },
        "outputId": "244298c7-f14b-4710-dd2e-348a44e5ed67"
      },
      "source": [
        "regr = GradientLR(0.1, iterations=10000, l=0.1)\n",
        "regr.fit(X_train, y_train)\n",
        "y_pred = regr.predict(X_val)\n",
        "print(f\"MSE: {mse(y_val, y_pred)}, R2: {r2(y_val, y_pred)}\")"
      ],
      "execution_count": 16,
      "outputs": [
        {
          "output_type": "stream",
          "text": [
            "MSE: 466.9609824838058, R2: 0.35961068037140576\n"
          ],
          "name": "stdout"
        }
      ]
    },
    {
      "cell_type": "code",
      "metadata": {
        "colab": {
          "base_uri": "https://localhost:8080/"
        },
        "id": "LHfoQOMgbzmy",
        "outputId": "5a6ce73f-815b-40f0-c03e-d03af48038cf"
      },
      "source": [
        "# Для сравнения ошибки взял Lasso из sklearn\n",
        "\n",
        "from sklearn.linear_model import Lasso\n",
        "\n",
        "regr = Lasso(alpha=0.1)\n",
        "regr.fit(X_train, y_train)\n",
        "y_pred = regr.predict(X_val)\n",
        "print(f\"MSE: {mse(y_val, y_pred)}, R2: {r2(y_val, y_pred)}\")"
      ],
      "execution_count": 17,
      "outputs": [
        {
          "output_type": "stream",
          "text": [
            "MSE: 467.18876110688285, R2: 0.35951318333850724\n"
          ],
          "name": "stdout"
        }
      ]
    },
    {
      "cell_type": "markdown",
      "metadata": {
        "id": "hYrkoSNw689m"
      },
      "source": [
        "### Задание 5 (2 балла)\n",
        "Проинтерпритируйте полученные результаты. Опишите влияние каждого признака на результат предсказания."
      ]
    },
    {
      "cell_type": "markdown",
      "metadata": {
        "id": "eeQt5Vlat07o"
      },
      "source": [
        "Описание признаков:"
      ]
    },
    {
      "cell_type": "markdown",
      "metadata": {
        "id": "Ppgx3jbpk0Ut"
      },
      "source": [
        "1. crim     per capita crime rate by town\n",
        "2. zn       proportion of residential land zoned for lots over 25,000 sq.ft.\n",
        "3. indus    proportion of non-retail business acres per town\n",
        "4. chas     Charles River dummy variable (= 1 if tract bounds river; 0 otherwise)\n",
        "5. nox      nitric oxides concentration (parts per 10 million)\n",
        "6. rm       average number of rooms per dwelling\n",
        "7. age      proportion of owner-occupied units built prior to 1940\n",
        "8. dis      weighted distances to five Boston employment centres\n",
        "9. rad      index of accessibility to radial highways\n",
        "10. tax      full-value property-tax rate per \\$10,000\n",
        "11. ptratio  pupil-teacher ratio by town\n",
        "12. b        1000(Bk - 0.63)^2 where Bk is the proportion of blacks by town\n",
        "13. lstat    % lower status of the population\n",
        "14. medv     median value of owner-occupied homes in $'s\n"
      ]
    },
    {
      "cell_type": "code",
      "metadata": {
        "id": "J_1RhVl8689m",
        "colab": {
          "base_uri": "https://localhost:8080/"
        },
        "outputId": "d51d6fdc-2bb8-48da-ebe7-6cdde882a8a3"
      },
      "source": [
        "regr = GradientLR(0.1, iterations=10000, l=0.1)\n",
        "regr.fit(X_train, y_train)\n",
        "y_pred = regr.predict(X_val)\n",
        "print(f\"MSE: {mse(y_val, y_pred)}, R2: {r2(y_val, y_pred)}\")"
      ],
      "execution_count": 18,
      "outputs": [
        {
          "output_type": "stream",
          "text": [
            "MSE: 466.9609824838058, R2: 0.35961068037140576\n"
          ],
          "name": "stdout"
        }
      ]
    },
    {
      "cell_type": "code",
      "metadata": {
        "id": "UNiv23XJkXCz"
      },
      "source": [
        "import pandas as pd\n",
        "\n",
        "feature_importance = [(k, v) for k, v in enumerate(abs(regr.W))]\n",
        "feature_importance = pd.DataFrame(feature_importance, columns=['feature', 'value'])\n",
        "feature_importance = feature_importance.sort_values(by='value', ascending=False).reset_index(drop=True)"
      ],
      "execution_count": 20,
      "outputs": []
    },
    {
      "cell_type": "code",
      "metadata": {
        "colab": {
          "base_uri": "https://localhost:8080/",
          "height": 606
        },
        "id": "P0ITK5wcp7WC",
        "outputId": "3a4aff4e-a5ec-4882-8901-a3b9336b32ae"
      },
      "source": [
        "import seaborn as sns\n",
        "import matplotlib.pyplot as plt\n",
        "\n",
        "plt.figure(figsize=(10, 10))\n",
        "ax = sns.barplot(x='value', y='feature', data=feature_importance, orient='h');\n",
        "plt.show()"
      ],
      "execution_count": 21,
      "outputs": [
        {
          "output_type": "display_data",
          "data": {
            "image/png": "[encoded data removed]",
            "text/plain": [
              "<Figure size 720x720 with 1 Axes>"
            ]
          },
          "metadata": {
            "tags": [],
            "needs_background": "light"
          }
        }
      ]
    },
    {
      "cell_type": "code",
      "metadata": {
        "colab": {
          "base_uri": "https://localhost:8080/"
        },
        "id": "M-U_eL-cmcgC",
        "outputId": "48668b81-87b1-426a-aedf-19e93cd1d7f2"
      },
      "source": [
        "x = [(k, v) for k, v in enumerate(regr.W)]\n",
        "\n",
        "sorted(x, key=lambda item: -abs(item[1]))"
      ],
      "execution_count": 22,
      "outputs": [
        {
          "output_type": "execute_result",
          "data": {
            "text/plain": [
              "[(0, 27337.841403754213),\n",
              " (13, -19785.48443570331),\n",
              " (6, 18990.975953505116),\n",
              " (8, -16736.96829303054),\n",
              " (1, -9144.52826255809),\n",
              " (11, -8545.358410423736),\n",
              " (5, -8308.964908902139),\n",
              " (10, -7580.48052337668),\n",
              " (9, 7507.797781003121),\n",
              " (2, 5195.906260689481),\n",
              " (12, 3482.694903394007),\n",
              " (4, 2321.3429377790803),\n",
              " (7, 1020.160375972524),\n",
              " (3, -507.4705906357491)]"
            ]
          },
          "metadata": {
            "tags": []
          },
          "execution_count": 22
        }
      ]
    },
    {
      "cell_type": "markdown",
      "metadata": {
        "id": "Facyry55t44t"
      },
      "source": [
        "Видно, что самый сильный признак - это признак 0. Он означает криминальный уровень по городу / району. Очевидно, что чем безопаснее район, тем большая цена за дом и тут есть прямая логическая зависимость."
      ]
    },
    {
      "cell_type": "markdown",
      "metadata": {
        "id": "IGWVW5gowyvS"
      },
      "source": [
        "Следующие по влиятельности признаки - это 13, 6 и 8."
      ]
    },
    {
      "cell_type": "markdown",
      "metadata": {
        "id": "rPpdkBDxuykS"
      },
      "source": [
        "13 - это \"lower status of the population\". Он также сильно влияет на таргет, но он обладает обратной корреляцией с таргетом."
      ]
    },
    {
      "cell_type": "markdown",
      "metadata": {
        "id": "pGDhTsxevq7J"
      },
      "source": [
        "6 признак - \"proportion of owner-occupied units built prior to 1940\". Также сильно влияет на таргет. Получается, что чем старше дом, тем он дороже.\""
      ]
    },
    {
      "cell_type": "markdown",
      "metadata": {
        "id": "UwJEpNFfwcf5"
      },
      "source": [
        "8 признак - \"index of accessibility to radial highways\". Также влияет сильно доступность дома к магистралям."
      ]
    },
    {
      "cell_type": "markdown",
      "metadata": {
        "id": "9xpcAyTMw_Fn"
      },
      "source": [
        "Следующая группа \"средне-значимых признаков\" - это признаки 1, 11, 5, 10, 9. Причем признаки 1, 11, 5 и 10 отрицательно влияют на цену, 9, наоборот, положительно."
      ]
    },
    {
      "cell_type": "markdown",
      "metadata": {
        "id": "EVbFKN5mxJZS"
      },
      "source": [
        "2 немного менее значительный."
      ]
    },
    {
      "cell_type": "markdown",
      "metadata": {
        "id": "XUgh4fn3x2oE"
      },
      "source": [
        "А признаки 12, 4, 7 и 3 кажутся самыми бесполезнами."
      ]
    }
  ]
}